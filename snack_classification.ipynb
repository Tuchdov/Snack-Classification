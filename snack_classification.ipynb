{
 "cells": [
  {
   "cell_type": "markdown",
   "metadata": {},
   "source": [
    "# Packeges"
   ]
  },
  {
   "cell_type": "code",
   "execution_count": 45,
   "metadata": {},
   "outputs": [],
   "source": [
    "import pandas as pd\n",
    "import numpy as np\n",
    "\n",
    "#from tensorflow.keras.preprocessing import text, sequence\n",
    "#from tensorflow.keras.layers import Embedding\n",
    "from sklearn.model_selection import train_test_split\n",
    "from sklearn.model_selection import cross_val_score\n",
    "from sklearn.model_selection import RepeatedStratifiedKFold, StratifiedKFold\n",
    "from sklearn.ensemble import RandomForestClassifier\n",
    "\n",
    "\n",
    "# To handle imbalanced data\n",
    "from imblearn.over_sampling import SMOTE\n",
    "from imblearn.under_sampling import RandomUnderSampler\n",
    "from imblearn.pipeline import Pipeline\n",
    "\n",
    "# for encoding categorial vars\n",
    "import category_encoders as ce\n",
    "from sklearn.preprocessing import OneHotEncoder\n",
    "\n",
    "# engineering numerical vars\n",
    "from sklearn.compose  import ColumnTransformer\n",
    "from sklearn.preprocessing import PowerTransformer,  MinMaxScaler,StandardScaler\n",
    "from sklearn.feature_selection import VarianceThreshold\n",
    "## basis expension\n",
    "from sklearn.preprocessing import PolynomialFeatures , SplineTransformer\n",
    "\n",
    "\n",
    "\n",
    "# to help understand the results\n",
    "import matplotlib.pyplot as plt\n",
    "\n",
    "# model selction\n",
    "from sklearn.model_selection import GridSearchCV\n",
    "\n",
    "# dealing with imalanced data\n",
    "from imblearn.over_sampling import SMOTE\n",
    "from imblearn.under_sampling import RandomUnderSampler\n",
    "from imblearn.pipeline import Pipeline\n",
    "\n",
    "\n",
    "# models used for feature selection\n",
    "from sklearn.linear_model import SGDClassifier, LogisticRegression\n",
    "from sklearn.feature_selection import RFECV\n",
    "from sklearn.ensemble import ExtraTreesClassifier, AdaBoostClassifier\n",
    "from sklearn.svm import LinearSVC\n",
    "import matplotlib.pyplot as plt\n",
    "\n",
    "\n"
   ]
  },
  {
   "cell_type": "code",
   "execution_count": 4,
   "metadata": {},
   "outputs": [],
   "source": [
    "food_train = pd.read_csv(\"/home/dovikde/Documents/Studies/Ds_applications/Final_ProjectTuchdov/data/food_train.csv\")\n",
    "nutrients = pd.read_csv(\"/home/dovikde/Documents/Studies/Ds_applications/Final_ProjectTuchdov/data/nutrients.csv\")\n",
    "food_nutrients = pd.read_csv(\"/home/dovikde/Documents/Studies/Ds_applications/Final_ProjectTuchdov/data/food_nutrients.csv\")\n",
    "food_test = pd.read_csv(\"/home/dovikde/Documents/Studies/Ds_applications/Final_ProjectTuchdov/data/food_test.csv\")"
   ]
  },
  {
   "cell_type": "code",
   "execution_count": 5,
   "metadata": {},
   "outputs": [
    {
     "data": {
      "text/plain": [
       "31751"
      ]
     },
     "execution_count": 5,
     "metadata": {},
     "output_type": "execute_result"
    }
   ],
   "source": [
    "n = len(food_train)\n",
    "n"
   ]
  },
  {
   "cell_type": "code",
   "execution_count": 6,
   "metadata": {},
   "outputs": [
    {
     "data": {
      "text/html": [
       "<div>\n",
       "<style scoped>\n",
       "    .dataframe tbody tr th:only-of-type {\n",
       "        vertical-align: middle;\n",
       "    }\n",
       "\n",
       "    .dataframe tbody tr th {\n",
       "        vertical-align: top;\n",
       "    }\n",
       "\n",
       "    .dataframe thead th {\n",
       "        text-align: right;\n",
       "    }\n",
       "</style>\n",
       "<table border=\"1\" class=\"dataframe\">\n",
       "  <thead>\n",
       "    <tr style=\"text-align: right;\">\n",
       "      <th></th>\n",
       "      <th>idx</th>\n",
       "      <th>1002</th>\n",
       "      <th>1003</th>\n",
       "      <th>1004</th>\n",
       "      <th>1005</th>\n",
       "      <th>1007</th>\n",
       "      <th>1008</th>\n",
       "      <th>1009</th>\n",
       "      <th>1010</th>\n",
       "      <th>1011</th>\n",
       "      <th>...</th>\n",
       "      <th>2021</th>\n",
       "      <th>2022</th>\n",
       "      <th>2023</th>\n",
       "      <th>2024</th>\n",
       "      <th>2025</th>\n",
       "      <th>2026</th>\n",
       "      <th>2028</th>\n",
       "      <th>2029</th>\n",
       "      <th>2032</th>\n",
       "      <th>2033</th>\n",
       "    </tr>\n",
       "  </thead>\n",
       "  <tbody>\n",
       "  </tbody>\n",
       "</table>\n",
       "<p>0 rows × 236 columns</p>\n",
       "</div>"
      ],
      "text/plain": [
       "Empty DataFrame\n",
       "Columns: [idx, 1002, 1003, 1004, 1005, 1007, 1008, 1009, 1010, 1011, 1012, 1013, 1014, 1018, 1024, 1026, 1032, 1038, 1039, 1050, 1051, 1056, 1057, 1058, 1062, 1063, 1072, 1075, 1078, 1079, 1081, 1082, 1084, 1085, 1086, 1087, 1088, 1089, 1090, 1091, 1092, 1093, 1094, 1095, 1096, 1097, 1098, 1099, 1100, 1101, 1102, 1103, 1104, 1105, 1106, 1107, 1108, 1109, 1110, 1111, 1112, 1113, 1114, 1116, 1117, 1119, 1120, 1121, 1122, 1123, 1124, 1125, 1126, 1127, 1128, 1129, 1130, 1131, 1137, 1146, 1158, 1159, 1160, 1161, 1162, 1165, 1166, 1167, 1170, 1175, 1176, 1177, 1178, 1180, 1181, 1183, 1184, 1185, 1186, 1187, ...]\n",
       "Index: []\n",
       "\n",
       "[0 rows x 236 columns]"
      ]
     },
     "execution_count": 6,
     "metadata": {},
     "output_type": "execute_result"
    }
   ],
   "source": [
    "# return all the numbers in nutrient id\n",
    "# nut_wide = nutrients.pivot(index=\"idx\", columns=\"nutrient_id\", values=\"amount\")\n",
    "nut_ids = ['idx']\n",
    "for id in nutrients.nutrient_id:\n",
    "    nut_ids.append(id)\n",
    "\n",
    "nut_data = pd.DataFrame(columns = nut_ids)\n",
    "nut_data"
   ]
  },
  {
   "cell_type": "markdown",
   "metadata": {},
   "source": [
    "#start_time = time.time()\n",
    "appended_data = [nut_data]\n",
    "for value in range(n):\n",
    "    # for every snack in the training sample get it's nutritional values\n",
    "    indx = food_train['idx'][value]\n",
    "    df2 = food_nutrients.query(\"idx == @indx\").loc[:, 'nutrient_id':'amount'].set_index(\"nutrient_id\").T\n",
    "    df2['idx']= indx\n",
    "    appended_data.append(df2)\n",
    "    print(value)\n",
    "\n",
    "appended_data = pd.concat(appended_data, axis=0)\n",
    "\n",
    "#end_time = time.time()\n",
    "#print('Execution time = %.6f seconds' % (end_time-start_time))"
   ]
  },
  {
   "cell_type": "code",
   "execution_count": 7,
   "metadata": {},
   "outputs": [],
   "source": [
    "#appended_data"
   ]
  },
  {
   "cell_type": "code",
   "execution_count": 8,
   "metadata": {},
   "outputs": [],
   "source": [
    "#appended_data.to_csv('all_nuts.csv')"
   ]
  },
  {
   "cell_type": "code",
   "execution_count": 9,
   "metadata": {},
   "outputs": [],
   "source": [
    "appended_data2 = pd.read_csv('/home/dovikde/Documents/Studies/Ds_applications/Final_ProjectTuchdov/data/all_nuts.csv')"
   ]
  },
  {
   "cell_type": "code",
   "execution_count": 10,
   "metadata": {},
   "outputs": [],
   "source": [
    "# fill zero where there isn't any nutritional data\n",
    "appended_data2 = appended_data2.fillna(0.0).reset_index(drop = True)\n"
   ]
  },
  {
   "cell_type": "code",
   "execution_count": 11,
   "metadata": {},
   "outputs": [],
   "source": [
    "main = food_train.merge(appended_data2, on='idx', how='left')\n",
    "#main"
   ]
  },
  {
   "cell_type": "code",
   "execution_count": 12,
   "metadata": {},
   "outputs": [],
   "source": [
    "main.loc[:, \"category\"] = main.category.astype('category')\n",
    "main.loc[:, \"serving_size_unit\"] = main.serving_size_unit.astype('category')\n"
   ]
  },
  {
   "cell_type": "code",
   "execution_count": 13,
   "metadata": {},
   "outputs": [
    {
     "data": {
      "text/plain": [
       "array(['chocolate', 'cookies_biscuits', 'cakes_cupcakes_snack_cakes',\n",
       "       'candy', 'chips_pretzels_snacks',\n",
       "       'popcorn_peanuts_seeds_related_snacks'], dtype=object)"
      ]
     },
     "execution_count": 13,
     "metadata": {},
     "output_type": "execute_result"
    }
   ],
   "source": [
    "# make a list of unique brands in each category\n",
    "# leave the brands that  only belong to one category\n",
    "# list of categorys\n",
    "cat_list = food_train.category.unique()\n",
    "cat_list"
   ]
  },
  {
   "cell_type": "code",
   "execution_count": 14,
   "metadata": {},
   "outputs": [],
   "source": [
    "# get all the brands in each category\n",
    "cat_brand_list = []\n",
    "for cat in cat_list:\n",
    "    brand_list = food_train.query('category == @cat').brand.unique()\n",
    "    cat_brand_list.append(brand_list)\n"
   ]
  },
  {
   "cell_type": "code",
   "execution_count": 15,
   "metadata": {},
   "outputs": [],
   "source": [
    "# get all the brands in other categories\n",
    "other_brand_list = []\n",
    "for cat in cat_list:\n",
    "    brand_list = food_train.query('category != @cat').brand.unique()\n",
    "    other_brand_list.append(brand_list)\n"
   ]
  },
  {
   "cell_type": "code",
   "execution_count": 16,
   "metadata": {},
   "outputs": [],
   "source": [
    "# brands that only belong to one category\n",
    "only_cat = []\n",
    "for i in range(len(cat_brand_list)):\n",
    "    mask = np.isin(cat_brand_list[i], other_brand_list[i], invert= True)\n",
    "    unique_category_brands = cat_brand_list[i][mask]\n",
    "    only_cat.append(unique_category_brands)\n",
    "    \n",
    "#main = main.assign(brand = ['chocolate brand' if a > 0 else 'neg' for a in df['a']])"
   ]
  },
  {
   "cell_type": "code",
   "execution_count": 17,
   "metadata": {},
   "outputs": [],
   "source": [
    "main = main.assign(brand = ['chocolate_brand' if item in only_cat[0] else item for item in main['brand']])\n",
    "main = main.assign(brand = ['cookies_biscuits_brand' if item in only_cat[1] else item for item in main['brand']])\n",
    "main = main.assign(brand = ['cakes_cupcakes_snack_cakes_brand' if item in only_cat[2] else item for item in main['brand']])\n",
    "main = main.assign(brand = ['candy_brand' if item in only_cat[3] else item for item in main['brand']])\n",
    "main = main.assign(brand = ['chips_pretzels_snacks_brand' if item in only_cat[4] else item for item in main['brand']])\n",
    "main = main.assign(brand = ['popcorn_peanuts_seeds_related_snacks_brand' if item in only_cat[5] else item for item in main['brand']])"
   ]
  },
  {
   "cell_type": "code",
   "execution_count": 18,
   "metadata": {},
   "outputs": [
    {
     "data": {
      "text/html": [
       "<div>\n",
       "<style scoped>\n",
       "    .dataframe tbody tr th:only-of-type {\n",
       "        vertical-align: middle;\n",
       "    }\n",
       "\n",
       "    .dataframe tbody tr th {\n",
       "        vertical-align: top;\n",
       "    }\n",
       "\n",
       "    .dataframe thead th {\n",
       "        text-align: right;\n",
       "    }\n",
       "</style>\n",
       "<table border=\"1\" class=\"dataframe\">\n",
       "  <thead>\n",
       "    <tr style=\"text-align: right;\">\n",
       "      <th></th>\n",
       "      <th>idx</th>\n",
       "      <th>brand</th>\n",
       "      <th>description</th>\n",
       "      <th>ingredients</th>\n",
       "      <th>serving_size</th>\n",
       "      <th>serving_size_unit</th>\n",
       "      <th>household_serving_fulltext</th>\n",
       "      <th>category</th>\n",
       "      <th>Unnamed: 0</th>\n",
       "      <th>1002</th>\n",
       "      <th>...</th>\n",
       "      <th>2021</th>\n",
       "      <th>2022</th>\n",
       "      <th>2023</th>\n",
       "      <th>2024</th>\n",
       "      <th>2025</th>\n",
       "      <th>2026</th>\n",
       "      <th>2028</th>\n",
       "      <th>2029</th>\n",
       "      <th>2032</th>\n",
       "      <th>2033</th>\n",
       "    </tr>\n",
       "  </thead>\n",
       "  <tbody>\n",
       "    <tr>\n",
       "      <th>0</th>\n",
       "      <td>1</td>\n",
       "      <td>chocolate_brand</td>\n",
       "      <td>milk chocolate</td>\n",
       "      <td>sugar, cocoa butter, whole milk, chocolate liq...</td>\n",
       "      <td>28.0</td>\n",
       "      <td>g</td>\n",
       "      <td>1 onz</td>\n",
       "      <td>chocolate</td>\n",
       "      <td>0</td>\n",
       "      <td>0.0</td>\n",
       "      <td>...</td>\n",
       "      <td>0.0</td>\n",
       "      <td>0.0</td>\n",
       "      <td>0.0</td>\n",
       "      <td>0.0</td>\n",
       "      <td>0.0</td>\n",
       "      <td>0.0</td>\n",
       "      <td>0.0</td>\n",
       "      <td>0.0</td>\n",
       "      <td>0.0</td>\n",
       "      <td>0.0</td>\n",
       "    </tr>\n",
       "    <tr>\n",
       "      <th>1</th>\n",
       "      <td>2</td>\n",
       "      <td>target stores</td>\n",
       "      <td>frosted sugar cookies</td>\n",
       "      <td>sugar, enriched bleached wheat flour (flour, n...</td>\n",
       "      <td>38.0</td>\n",
       "      <td>g</td>\n",
       "      <td>1 cookie</td>\n",
       "      <td>cookies_biscuits</td>\n",
       "      <td>1</td>\n",
       "      <td>0.0</td>\n",
       "      <td>...</td>\n",
       "      <td>0.0</td>\n",
       "      <td>0.0</td>\n",
       "      <td>0.0</td>\n",
       "      <td>0.0</td>\n",
       "      <td>0.0</td>\n",
       "      <td>0.0</td>\n",
       "      <td>0.0</td>\n",
       "      <td>0.0</td>\n",
       "      <td>0.0</td>\n",
       "      <td>0.0</td>\n",
       "    </tr>\n",
       "    <tr>\n",
       "      <th>2</th>\n",
       "      <td>3</td>\n",
       "      <td>target stores</td>\n",
       "      <td>white frosted mini sugar cookies</td>\n",
       "      <td>sugar, enriched bleached wheat flour (flour, n...</td>\n",
       "      <td>30.0</td>\n",
       "      <td>g</td>\n",
       "      <td>2 cookies</td>\n",
       "      <td>cookies_biscuits</td>\n",
       "      <td>2</td>\n",
       "      <td>0.0</td>\n",
       "      <td>...</td>\n",
       "      <td>0.0</td>\n",
       "      <td>0.0</td>\n",
       "      <td>0.0</td>\n",
       "      <td>0.0</td>\n",
       "      <td>0.0</td>\n",
       "      <td>0.0</td>\n",
       "      <td>0.0</td>\n",
       "      <td>0.0</td>\n",
       "      <td>0.0</td>\n",
       "      <td>0.0</td>\n",
       "    </tr>\n",
       "    <tr>\n",
       "      <th>3</th>\n",
       "      <td>4</td>\n",
       "      <td>target stores</td>\n",
       "      <td>chocolaty dipped graham crackers</td>\n",
       "      <td>sugar, vegetable oil (palm kernel, partially h...</td>\n",
       "      <td>40.0</td>\n",
       "      <td>g</td>\n",
       "      <td>5 pieces</td>\n",
       "      <td>cookies_biscuits</td>\n",
       "      <td>3</td>\n",
       "      <td>0.0</td>\n",
       "      <td>...</td>\n",
       "      <td>0.0</td>\n",
       "      <td>0.0</td>\n",
       "      <td>0.0</td>\n",
       "      <td>0.0</td>\n",
       "      <td>0.0</td>\n",
       "      <td>0.0</td>\n",
       "      <td>0.0</td>\n",
       "      <td>0.0</td>\n",
       "      <td>0.0</td>\n",
       "      <td>0.0</td>\n",
       "    </tr>\n",
       "    <tr>\n",
       "      <th>4</th>\n",
       "      <td>5</td>\n",
       "      <td>ferrero u.s.a., incorporated</td>\n",
       "      <td>ferrero collection, fine assorted confections</td>\n",
       "      <td>semisweet chocolate (sugar, cocoa mass, cocoa ...</td>\n",
       "      <td>40.0</td>\n",
       "      <td>g</td>\n",
       "      <td>4 pieces</td>\n",
       "      <td>chocolate</td>\n",
       "      <td>4</td>\n",
       "      <td>0.0</td>\n",
       "      <td>...</td>\n",
       "      <td>0.0</td>\n",
       "      <td>0.0</td>\n",
       "      <td>0.0</td>\n",
       "      <td>0.0</td>\n",
       "      <td>0.0</td>\n",
       "      <td>0.0</td>\n",
       "      <td>0.0</td>\n",
       "      <td>0.0</td>\n",
       "      <td>0.0</td>\n",
       "      <td>0.0</td>\n",
       "    </tr>\n",
       "  </tbody>\n",
       "</table>\n",
       "<p>5 rows × 244 columns</p>\n",
       "</div>"
      ],
      "text/plain": [
       "   idx                         brand  \\\n",
       "0    1               chocolate_brand   \n",
       "1    2                 target stores   \n",
       "2    3                 target stores   \n",
       "3    4                 target stores   \n",
       "4    5  ferrero u.s.a., incorporated   \n",
       "\n",
       "                                     description  \\\n",
       "0                                 milk chocolate   \n",
       "1                          frosted sugar cookies   \n",
       "2               white frosted mini sugar cookies   \n",
       "3               chocolaty dipped graham crackers   \n",
       "4  ferrero collection, fine assorted confections   \n",
       "\n",
       "                                         ingredients  serving_size  \\\n",
       "0  sugar, cocoa butter, whole milk, chocolate liq...          28.0   \n",
       "1  sugar, enriched bleached wheat flour (flour, n...          38.0   \n",
       "2  sugar, enriched bleached wheat flour (flour, n...          30.0   \n",
       "3  sugar, vegetable oil (palm kernel, partially h...          40.0   \n",
       "4  semisweet chocolate (sugar, cocoa mass, cocoa ...          40.0   \n",
       "\n",
       "  serving_size_unit household_serving_fulltext          category  Unnamed: 0  \\\n",
       "0                 g                      1 onz         chocolate           0   \n",
       "1                 g                   1 cookie  cookies_biscuits           1   \n",
       "2                 g                  2 cookies  cookies_biscuits           2   \n",
       "3                 g                   5 pieces  cookies_biscuits           3   \n",
       "4                 g                   4 pieces         chocolate           4   \n",
       "\n",
       "   1002  ...  2021  2022  2023  2024  2025  2026  2028  2029  2032  2033  \n",
       "0   0.0  ...   0.0   0.0   0.0   0.0   0.0   0.0   0.0   0.0   0.0   0.0  \n",
       "1   0.0  ...   0.0   0.0   0.0   0.0   0.0   0.0   0.0   0.0   0.0   0.0  \n",
       "2   0.0  ...   0.0   0.0   0.0   0.0   0.0   0.0   0.0   0.0   0.0   0.0  \n",
       "3   0.0  ...   0.0   0.0   0.0   0.0   0.0   0.0   0.0   0.0   0.0   0.0  \n",
       "4   0.0  ...   0.0   0.0   0.0   0.0   0.0   0.0   0.0   0.0   0.0   0.0  \n",
       "\n",
       "[5 rows x 244 columns]"
      ]
     },
     "execution_count": 18,
     "metadata": {},
     "output_type": "execute_result"
    }
   ],
   "source": [
    "main.head(5)"
   ]
  },
  {
   "cell_type": "code",
   "execution_count": 19,
   "metadata": {},
   "outputs": [
    {
     "name": "stdout",
     "output_type": "stream",
     "text": [
      "num of original brands 4783\n",
      "num of engineered brands 971\n"
     ]
    }
   ],
   "source": [
    "# let's see the difference\n",
    "print('num of original brands', len(food_train.brand.unique()))\n",
    "print('num of engineered brands',len(main.brand.unique()))"
   ]
  },
  {
   "cell_type": "code",
   "execution_count": 20,
   "metadata": {},
   "outputs": [
    {
     "name": "stderr",
     "output_type": "stream",
     "text": [
      "/tmp/ipykernel_4752/2093770968.py:2: FutureWarning: The default value of regex will change from True to False in a future version.\n",
      "  main2.loc[:, \"servings\"] = main2.loc[:, \"household_serving_fulltext\"].str.strip().str.replace('[^a-zA-Z ]', \"\").str.replace('about', \"\").str.replace('per container', \"\").str.strip()\n"
     ]
    }
   ],
   "source": [
    "main2= main.copy()\n",
    "main2.loc[:, \"servings\"] = main2.loc[:, \"household_serving_fulltext\"].str.strip().str.replace('[^a-zA-Z ]', \"\").str.replace('about', \"\").str.replace('per container', \"\").str.strip()\n",
    "main2.insert(7,\"servings\", main2.pop('servings'))"
   ]
  },
  {
   "cell_type": "code",
   "execution_count": 21,
   "metadata": {},
   "outputs": [],
   "source": [
    "# make a list of unique brands in each category\n",
    "# leave the brands that  only belong to one category\n",
    "# list of categorys\n",
    "cat_list = food_train.category.unique()\n",
    "cat_list\n",
    "# get all the brands in each category\n",
    "serv_brand_list = []\n",
    "for cat in cat_list:\n",
    "    brand_list = main2.query('category == @cat').servings.unique()\n",
    "    serv_brand_list.append(brand_list)\n",
    "\n",
    "# get all the brands in other categories\n",
    "other_serv_list = []\n",
    "for cat in cat_list:\n",
    "    brand_list = main2.query('category != @cat').servings.unique()\n",
    "    other_serv_list.append(brand_list)\n",
    "\n",
    "# brands that only belong to one category\n",
    "only_serv = []\n",
    "for i in range(len(serv_brand_list)):\n",
    "    mask = np.isin(serv_brand_list[i], other_serv_list[i], invert= True)\n",
    "    unique_category_servings = serv_brand_list[i][mask]\n",
    "    only_serv.append(unique_category_servings)\n",
    "    \n",
    "#main = main.assign(brand = ['chocolate brand' if a > 0 else 'neg' for a in df['a']])\n",
    "main2 = main2.assign(servings = ['chocolate_servings' if item in only_serv[0] else item for item in main2['servings']])\n",
    "main2 = main2.assign(servings = ['cookies_biscuits_servings' if item in only_serv[1] else item for item in main2['servings']])\n",
    "main2 = main2.assign(servings = ['cakes_cupcakes_snack_cakes_servings' if item in only_serv[2] else item for item in main2['servings']])\n",
    "main2 = main2.assign(servings = ['candy_servings' if item in only_serv[3] else item for item in main2['servings']])\n",
    "main2 = main2.assign(servings = ['chips_pretzels_snacks_servings' if item in only_serv[4] else item for item in main2['servings']])\n",
    "main2 = main2.assign(servings = ['popcorn_peanuts_seeds_related_snacks_servings' if item in only_serv[5] else item for item in main2['servings']])# doing the same thing I did with brands to servings\n"
   ]
  },
  {
   "cell_type": "code",
   "execution_count": 22,
   "metadata": {},
   "outputs": [
    {
     "data": {
      "text/plain": [
       "135"
      ]
     },
     "execution_count": 22,
     "metadata": {},
     "output_type": "execute_result"
    }
   ],
   "source": [
    "len(main2.servings.unique()) # 146"
   ]
  },
  {
   "cell_type": "code",
   "execution_count": 23,
   "metadata": {},
   "outputs": [],
   "source": [
    "# let's try to stemm\n",
    "from nltk.stem.snowball import SnowballStemmer\n",
    "stemmer = SnowballStemmer(\"english\") #define stemming dict\n"
   ]
  },
  {
   "cell_type": "code",
   "execution_count": 24,
   "metadata": {},
   "outputs": [],
   "source": [
    "main3 = main2.copy()\n",
    "main3.loc[:,\"servings\"] = main3.loc[:,\"servings\"].astype(str)"
   ]
  },
  {
   "cell_type": "code",
   "execution_count": 25,
   "metadata": {},
   "outputs": [
    {
     "name": "stdout",
     "output_type": "stream",
     "text": [
      "num of original servings 2207\n",
      "num of engineered servings 115\n"
     ]
    }
   ],
   "source": [
    "main3.loc[:,\"servings\"]= main3.loc[:,\"servings\"].apply(stemmer.stem)\n",
    "#main3.loc[:\"servings\"].head(10).applymap(stemmer.stem)\n",
    "#main3.loc[: \"servings\"].info\n",
    "# let's see the difference\n",
    "print('num of original servings', len(food_train.household_serving_fulltext.unique()))\n",
    "print('num of engineered servings',len(main3.servings.unique()))"
   ]
  },
  {
   "cell_type": "code",
   "execution_count": 26,
   "metadata": {},
   "outputs": [
    {
     "data": {
      "text/plain": [
       "(8, 245)"
      ]
     },
     "execution_count": 26,
     "metadata": {},
     "output_type": "execute_result"
    }
   ],
   "source": [
    "main3.query(\"serving_size_unit == 'ml'\").shape\n"
   ]
  },
  {
   "cell_type": "markdown",
   "metadata": {},
   "source": [
    "There are only 8 observations that have ml in them, i will choosr to drop themb"
   ]
  },
  {
   "cell_type": "code",
   "execution_count": 27,
   "metadata": {},
   "outputs": [],
   "source": [
    "main4 = main3.copy()\n",
    "# main4 = main3.query(\"serving_size_unit != 'ml'\")\n",
    "main4 = main4.drop(['household_serving_fulltext',\"serving_size_unit\",\"ingredients\",\"description\"], axis = 1)\n",
    "main4.loc[:,'brand'] = main4.loc[:,'brand'].astype('category')"
   ]
  },
  {
   "cell_type": "code",
   "execution_count": 28,
   "metadata": {},
   "outputs": [],
   "source": [
    "main4 = main3.copy()\n",
    "# main4 = main3.query(\"serving_size_unit != 'ml'\")\n",
    "main4 = main4.drop(['household_serving_fulltext',\"serving_size_unit\",\"ingredients\",\"description\"], axis = 1)\n",
    "main4.loc[:,'brand'] = main4.loc[:,'brand'].astype('category')"
   ]
  },
  {
   "cell_type": "code",
   "execution_count": 29,
   "metadata": {},
   "outputs": [
    {
     "data": {
      "text/plain": [
       "brand\n",
       "candy_brand                                   2081\n",
       "popcorn_peanuts_seeds_related_snacks_brand    1979\n",
       "cookies_biscuits_brand                        1831\n",
       "cakes_cupcakes_snack_cakes_brand              1156\n",
       "chips_pretzels_snacks_brand                   1132\n",
       "                                              ... \n",
       "pure creativity llc                              2\n",
       "thompson's                                       2\n",
       "in-between sportwear, inc.                       2\n",
       "protes                                           2\n",
       "english bay batter inc.                          2\n",
       "Length: 971, dtype: int64"
      ]
     },
     "execution_count": 29,
     "metadata": {},
     "output_type": "execute_result"
    }
   ],
   "source": [
    "# i will also drop the discripttion and ingredients\n",
    "main4.brand.count()\n",
    "brands_df = main4.groupby(['brand']).size().sort_values(ascending = False)\n",
    "brands_df"
   ]
  },
  {
   "cell_type": "markdown",
   "metadata": {},
   "source": [
    "Now we will compare between ways of encoding brand and servings"
   ]
  },
  {
   "cell_type": "code",
   "execution_count": 30,
   "metadata": {},
   "outputs": [],
   "source": [
    "from sklearn import preprocessing as prep\n",
    "lb = prep.LabelEncoder()\n",
    "lable = main4.category\n",
    "lable = lb.fit_transform(lable)\n",
    "lable = pd.Series(lable)"
   ]
  },
  {
   "cell_type": "code",
   "execution_count": 33,
   "metadata": {},
   "outputs": [],
   "source": [
    "unique_brand_list = ['chocolate_brand','cookies_biscuits_brand','candy_brand','chips_pretzels_snacks_brand','popcorn_peanuts_seeds_related_snacks_brand', 'cakes_cupcakes_snack_cakes_brand']\n",
    "unique_serv_list = ['chocolate_serv' ,'cookies_biscuits_serv','candy_serv','chips_pretzels_snacks_serv','popcorn_peanuts_seeds_related_snacks_serv', 'cakes_cupcakes_snack_cakes_serv']"
   ]
  },
  {
   "cell_type": "code",
   "execution_count": 67,
   "metadata": {},
   "outputs": [],
   "source": [
    "main4.to_csv(\"main4.csv\")"
   ]
  },
  {
   "cell_type": "code",
   "execution_count": 68,
   "metadata": {},
   "outputs": [],
   "source": [
    "\n",
    "rf = RandomForestClassifier(max_depth=4, random_state=0, criterion= \"entropy\")\n",
    "#clf.fit(X, y)\n"
   ]
  },
  {
   "cell_type": "code",
   "execution_count": 70,
   "metadata": {},
   "outputs": [],
   "source": [
    "\n",
    "skf7 = StratifiedKFold(n_splits=7)\n",
    "cv = RepeatedStratifiedKFold(n_splits=10, n_repeats=3, random_state=1)"
   ]
  },
  {
   "cell_type": "markdown",
   "metadata": {},
   "source": [
    "# Splitting The Data"
   ]
  },
  {
   "cell_type": "markdown",
   "metadata": {},
   "source": [
    "I'll split the date into 5 parts to handle: class_imbalance, feture engineering, feature selection, model selection, and tuning"
   ]
  },
  {
   "cell_type": "code",
   "execution_count": 68,
   "metadata": {},
   "outputs": [],
   "source": [
    "X_main , X_class_imb, y_main ,y_class_imb = train_test_split(main4, lable,\n",
    " stratify = lable ,\n",
    " random_state= 5,\n",
    " test_size= round(n/5 + 1))\n"
   ]
  },
  {
   "cell_type": "code",
   "execution_count": 69,
   "metadata": {},
   "outputs": [
    {
     "name": "stdout",
     "output_type": "stream",
     "text": [
      "(25400, 241)\n",
      "(25400,)\n"
     ]
    }
   ],
   "source": [
    "print(X_main.shape)\n",
    "print(y_main.shape)"
   ]
  },
  {
   "cell_type": "code",
   "execution_count": 70,
   "metadata": {},
   "outputs": [],
   "source": [
    "X_temp , X_var_selection, y_temp , y_var_selection = train_test_split(X_main, y_main,\n",
    " stratify = y_main ,\n",
    " random_state= 5,\n",
    " test_size= round(n/5 - 1))\n"
   ]
  },
  {
   "cell_type": "code",
   "execution_count": 71,
   "metadata": {},
   "outputs": [],
   "source": [
    "X_temp2 , X_fteng, y_temp2 , y_fteng = train_test_split(X_temp, y_temp,\n",
    " stratify = y_temp ,\n",
    " random_state= 5,\n",
    " test_size= round(n/5 - 1))\n"
   ]
  },
  {
   "cell_type": "code",
   "execution_count": 72,
   "metadata": {},
   "outputs": [],
   "source": [
    "X_mod_slct , X_mod_tune, y_mod_slct , y_mod_tune = train_test_split(X_temp2, y_temp2,\n",
    " stratify = y_temp2 ,\n",
    " random_state= 5,\n",
    " test_size= 0.5)\n"
   ]
  },
  {
   "cell_type": "code",
   "execution_count": 73,
   "metadata": {},
   "outputs": [
    {
     "name": "stdout",
     "output_type": "stream",
     "text": [
      "(6349, 241)\n",
      "(6349,)\n",
      "(6349, 241)\n",
      "(6349,)\n",
      "(6351, 241)\n",
      "(6351,)\n",
      "(6351, 241)\n",
      "(6351,)\n",
      "(6351, 241)\n",
      "(6351,)\n"
     ]
    }
   ],
   "source": [
    "print(X_fteng.shape)\n",
    "print(y_fteng.shape)\n",
    "print(X_var_selection.shape)\n",
    "print(y_var_selection.shape)\n",
    "print(X_class_imb.shape)\n",
    "print(y_class_imb.shape)\n",
    "print(X_mod_tune.shape)\n",
    "print(y_mod_tune.shape)\n",
    "print(X_mod_slct.shape)\n",
    "print(y_mod_slct.shape)"
   ]
  },
  {
   "cell_type": "markdown",
   "metadata": {},
   "source": [
    "# feature enginnering"
   ]
  },
  {
   "cell_type": "code",
   "execution_count": 74,
   "metadata": {},
   "outputs": [],
   "source": [
    "\n",
    "rf = RandomForestClassifier(max_depth=4, random_state=0, criterion= \"entropy\")\n",
    "#clf.fit(X, y)\n"
   ]
  },
  {
   "cell_type": "code",
   "execution_count": 75,
   "metadata": {},
   "outputs": [],
   "source": [
    "\n",
    "skf7 = StratifiedKFold(n_splits=7)\n",
    "cv = RepeatedStratifiedKFold(n_splits=7, n_repeats=4, random_state=1)"
   ]
  },
  {
   "cell_type": "markdown",
   "metadata": {},
   "source": [
    "## handlng categorial data, feature hashing , One hot encoding"
   ]
  },
  {
   "cell_type": "code",
   "execution_count": 37,
   "metadata": {},
   "outputs": [],
   "source": [
    "import category_encoders as ce\n",
    "encoder30=ce.HashingEncoder(cols='brand',n_components=30)\n",
    "encoder15=ce.HashingEncoder(cols='servings',n_components=15)\n"
   ]
  },
  {
   "cell_type": "code",
   "execution_count": null,
   "metadata": {},
   "outputs": [],
   "source": [
    "\n",
    "hashed_brand = encoder30.fit_transform(X_fteng.brand)\n",
    "hashed_serv =  encoder15.fit_transform(X_fteng.servings)"
   ]
  },
  {
   "cell_type": "code",
   "execution_count": 77,
   "metadata": {},
   "outputs": [],
   "source": [
    "hashed_brand = encoder30.fit_transform(X_fteng.brand)\n",
    "hashed_serv =  encoder15.fit_transform(X_fteng.servings)\n",
    "hashed_brand = pd.DataFrame(hashed_brand).add_prefix('brand')\n",
    "hashed_serv = pd.DataFrame(hashed_serv).add_prefix('serving')\n",
    "X_fteng2 = pd.concat([X_fteng,hashed_brand], axis = 1)\n",
    "X_fteng2 = pd.concat([X_fteng2,hashed_serv], axis = 1)"
   ]
  },
  {
   "cell_type": "code",
   "execution_count": 78,
   "metadata": {},
   "outputs": [],
   "source": [
    "# adding the hashes\n",
    "main5_hsh = main4.copy()\n",
    "main5_hsh = main5_hsh.drop(['brand',\"servings\",\"category\",\"Unnamed: 0\", \"idx\"], axis = 1)\n",
    "X_fteng2 = pd.concat([X_fteng,hashed_brand], axis = 1)\n",
    "X_fteng2 = pd.concat([X_fteng2,hashed_serv], axis = 1)\n",
    "X_fteng2 =  X_fteng2.drop(['brand',\"servings\" ,\"category\",\"Unnamed: 0\", \"idx\"], axis = 1)"
   ]
  },
  {
   "cell_type": "code",
   "execution_count": 79,
   "metadata": {},
   "outputs": [
    {
     "name": "stdout",
     "output_type": "stream",
     "text": [
      "Mean accuracy:  0.7853205229169947\n"
     ]
    }
   ],
   "source": [
    "scores = cross_val_score(rf, X_fteng2, y_fteng, scoring='accuracy', cv=cv, n_jobs=-1)\n",
    "print('Mean accuracy: ' , np.mean(scores))"
   ]
  },
  {
   "cell_type": "markdown",
   "metadata": {},
   "source": [
    "## one hot encoding + other"
   ]
  },
  {
   "cell_type": "code",
   "execution_count": 92,
   "metadata": {},
   "outputs": [],
   "source": [
    "unique_brand_list = ['chocolate_brand','cookies_biscuits_brand','candy_brand','chips_pretzels_snacks_brand','popcorn_peanuts_seeds_related_snacks_brand', 'cakes_cupcakes_snack_cakes_brand']\n",
    "unique_serv_list = ['chocolate_serv' ,'cookies_biscuits_serv','candy_serv','chips_pretzels_snacks_serv','popcorn_peanuts_seeds_related_snacks_serv', 'cakes_cupcakes_snack_cakes_serv']"
   ]
  },
  {
   "cell_type": "code",
   "execution_count": 93,
   "metadata": {},
   "outputs": [],
   "source": [
    "main5_ohe = main4.copy()\n",
    "X_fteng2 = X_fteng.assign(brand = ['other_brand' if item not in unique_brand_list else item for item in X_fteng['brand']],\n",
    "                     servings = ['other_serving' if item not in unique_serv_list else item for item in X_fteng['servings']])\n",
    "#main5 = main5.drop(['brand',\"servings\",\"category\"], axis = 1)\n"
   ]
  },
  {
   "cell_type": "code",
   "execution_count": 94,
   "metadata": {},
   "outputs": [],
   "source": [
    "from sklearn.preprocessing import OneHotEncoder\n",
    "from sklearn.compose import make_column_transformer, ColumnTransformer\n",
    "\n",
    "X_fteng2 = X_fteng.assign(brand = ['other_brand' if item not in unique_brand_list else item for item in X_fteng['brand']],\n",
    "                     servings = ['other_serving' if item not in unique_serv_list else item for item in X_fteng['servings']])                     \n",
    "\n",
    "enc = OneHotEncoder()\n",
    "\n",
    "\n",
    "oh_brand = enc.fit_transform(X_fteng2[['brand']]).toarray()\n",
    "#transformed_df = pd.DataFrame(X_trans, columns=X_trans.getcol)\n",
    "oh_brand = pd.DataFrame(oh_brand).add_prefix('brand_')\n",
    "oh_serv = enc.fit_transform(X_fteng2[['servings']]).toarray()\n",
    "#transformed_df = pd.DataFrame(X_trans, columns=X_trans.getcol)\n",
    "oh_serv = pd.DataFrame(oh_serv).add_prefix('serving_')\n"
   ]
  },
  {
   "cell_type": "code",
   "execution_count": 95,
   "metadata": {},
   "outputs": [
    {
     "name": "stdout",
     "output_type": "stream",
     "text": [
      "(6349, 7)\n",
      "(6349, 7)\n"
     ]
    }
   ],
   "source": [
    "print(oh_brand.shape)\n",
    "print(oh_serv.shape)"
   ]
  },
  {
   "cell_type": "code",
   "execution_count": 96,
   "metadata": {},
   "outputs": [],
   "source": [
    "# adding same index to prevent NAN's\n",
    "oh_brand.index = X_fteng2.index\n",
    "oh_serv.index = X_fteng2.index\n",
    "X_fteng3 = pd.concat([X_fteng2,oh_brand], axis = 1)\n",
    "X_fteng3 = pd.concat([X_fteng3,oh_serv], axis = 1)\n",
    "X_fteng3 = X_fteng3.drop(['brand',\"servings\",\"category\", \"Unnamed: 0\",'idx'], axis = 1)"
   ]
  },
  {
   "cell_type": "code",
   "execution_count": 97,
   "metadata": {},
   "outputs": [
    {
     "data": {
      "text/html": [
       "<div>\n",
       "<style scoped>\n",
       "    .dataframe tbody tr th:only-of-type {\n",
       "        vertical-align: middle;\n",
       "    }\n",
       "\n",
       "    .dataframe tbody tr th {\n",
       "        vertical-align: top;\n",
       "    }\n",
       "\n",
       "    .dataframe thead th {\n",
       "        text-align: right;\n",
       "    }\n",
       "</style>\n",
       "<table border=\"1\" class=\"dataframe\">\n",
       "  <thead>\n",
       "    <tr style=\"text-align: right;\">\n",
       "      <th></th>\n",
       "      <th>serving_size</th>\n",
       "      <th>1002</th>\n",
       "      <th>1003</th>\n",
       "      <th>1004</th>\n",
       "      <th>1005</th>\n",
       "      <th>1007</th>\n",
       "      <th>1008</th>\n",
       "      <th>1009</th>\n",
       "      <th>1010</th>\n",
       "      <th>1011</th>\n",
       "      <th>...</th>\n",
       "      <th>brand_4</th>\n",
       "      <th>brand_5</th>\n",
       "      <th>brand_6</th>\n",
       "      <th>serving_0</th>\n",
       "      <th>serving_1</th>\n",
       "      <th>serving_2</th>\n",
       "      <th>serving_3</th>\n",
       "      <th>serving_4</th>\n",
       "      <th>serving_5</th>\n",
       "      <th>serving_6</th>\n",
       "    </tr>\n",
       "  </thead>\n",
       "  <tbody>\n",
       "    <tr>\n",
       "      <th>26291</th>\n",
       "      <td>43.0</td>\n",
       "      <td>0.0</td>\n",
       "      <td>6.98</td>\n",
       "      <td>27.91</td>\n",
       "      <td>65.12</td>\n",
       "      <td>0.0</td>\n",
       "      <td>535.0</td>\n",
       "      <td>0.0</td>\n",
       "      <td>0.0</td>\n",
       "      <td>0.0</td>\n",
       "      <td>...</td>\n",
       "      <td>0.0</td>\n",
       "      <td>0.0</td>\n",
       "      <td>0.0</td>\n",
       "      <td>0.0</td>\n",
       "      <td>0.0</td>\n",
       "      <td>0.0</td>\n",
       "      <td>0.0</td>\n",
       "      <td>0.0</td>\n",
       "      <td>1.0</td>\n",
       "      <td>0.0</td>\n",
       "    </tr>\n",
       "    <tr>\n",
       "      <th>11308</th>\n",
       "      <td>30.0</td>\n",
       "      <td>0.0</td>\n",
       "      <td>10.00</td>\n",
       "      <td>30.00</td>\n",
       "      <td>50.00</td>\n",
       "      <td>0.0</td>\n",
       "      <td>540.0</td>\n",
       "      <td>0.0</td>\n",
       "      <td>0.0</td>\n",
       "      <td>0.0</td>\n",
       "      <td>...</td>\n",
       "      <td>0.0</td>\n",
       "      <td>1.0</td>\n",
       "      <td>0.0</td>\n",
       "      <td>0.0</td>\n",
       "      <td>0.0</td>\n",
       "      <td>0.0</td>\n",
       "      <td>0.0</td>\n",
       "      <td>0.0</td>\n",
       "      <td>1.0</td>\n",
       "      <td>0.0</td>\n",
       "    </tr>\n",
       "    <tr>\n",
       "      <th>27949</th>\n",
       "      <td>40.0</td>\n",
       "      <td>0.0</td>\n",
       "      <td>5.00</td>\n",
       "      <td>0.00</td>\n",
       "      <td>75.00</td>\n",
       "      <td>0.0</td>\n",
       "      <td>325.0</td>\n",
       "      <td>0.0</td>\n",
       "      <td>0.0</td>\n",
       "      <td>0.0</td>\n",
       "      <td>...</td>\n",
       "      <td>0.0</td>\n",
       "      <td>0.0</td>\n",
       "      <td>0.0</td>\n",
       "      <td>0.0</td>\n",
       "      <td>0.0</td>\n",
       "      <td>0.0</td>\n",
       "      <td>0.0</td>\n",
       "      <td>0.0</td>\n",
       "      <td>1.0</td>\n",
       "      <td>0.0</td>\n",
       "    </tr>\n",
       "    <tr>\n",
       "      <th>3887</th>\n",
       "      <td>28.0</td>\n",
       "      <td>0.0</td>\n",
       "      <td>7.14</td>\n",
       "      <td>35.71</td>\n",
       "      <td>50.00</td>\n",
       "      <td>0.0</td>\n",
       "      <td>571.0</td>\n",
       "      <td>0.0</td>\n",
       "      <td>0.0</td>\n",
       "      <td>0.0</td>\n",
       "      <td>...</td>\n",
       "      <td>0.0</td>\n",
       "      <td>1.0</td>\n",
       "      <td>0.0</td>\n",
       "      <td>0.0</td>\n",
       "      <td>0.0</td>\n",
       "      <td>0.0</td>\n",
       "      <td>0.0</td>\n",
       "      <td>0.0</td>\n",
       "      <td>1.0</td>\n",
       "      <td>0.0</td>\n",
       "    </tr>\n",
       "    <tr>\n",
       "      <th>16140</th>\n",
       "      <td>28.0</td>\n",
       "      <td>0.0</td>\n",
       "      <td>14.29</td>\n",
       "      <td>100.00</td>\n",
       "      <td>53.57</td>\n",
       "      <td>0.0</td>\n",
       "      <td>1107.0</td>\n",
       "      <td>0.0</td>\n",
       "      <td>0.0</td>\n",
       "      <td>0.0</td>\n",
       "      <td>...</td>\n",
       "      <td>0.0</td>\n",
       "      <td>0.0</td>\n",
       "      <td>1.0</td>\n",
       "      <td>0.0</td>\n",
       "      <td>0.0</td>\n",
       "      <td>0.0</td>\n",
       "      <td>0.0</td>\n",
       "      <td>0.0</td>\n",
       "      <td>1.0</td>\n",
       "      <td>0.0</td>\n",
       "    </tr>\n",
       "  </tbody>\n",
       "</table>\n",
       "<p>5 rows × 250 columns</p>\n",
       "</div>"
      ],
      "text/plain": [
       "       serving_size  1002   1003    1004   1005  1007    1008  1009  1010  \\\n",
       "26291          43.0   0.0   6.98   27.91  65.12   0.0   535.0   0.0   0.0   \n",
       "11308          30.0   0.0  10.00   30.00  50.00   0.0   540.0   0.0   0.0   \n",
       "27949          40.0   0.0   5.00    0.00  75.00   0.0   325.0   0.0   0.0   \n",
       "3887           28.0   0.0   7.14   35.71  50.00   0.0   571.0   0.0   0.0   \n",
       "16140          28.0   0.0  14.29  100.00  53.57   0.0  1107.0   0.0   0.0   \n",
       "\n",
       "       1011  ...  brand_4  brand_5  brand_6  serving_0  serving_1  serving_2  \\\n",
       "26291   0.0  ...      0.0      0.0      0.0        0.0        0.0        0.0   \n",
       "11308   0.0  ...      0.0      1.0      0.0        0.0        0.0        0.0   \n",
       "27949   0.0  ...      0.0      0.0      0.0        0.0        0.0        0.0   \n",
       "3887    0.0  ...      0.0      1.0      0.0        0.0        0.0        0.0   \n",
       "16140   0.0  ...      0.0      0.0      1.0        0.0        0.0        0.0   \n",
       "\n",
       "       serving_3  serving_4  serving_5  serving_6  \n",
       "26291        0.0        0.0        1.0        0.0  \n",
       "11308        0.0        0.0        1.0        0.0  \n",
       "27949        0.0        0.0        1.0        0.0  \n",
       "3887         0.0        0.0        1.0        0.0  \n",
       "16140        0.0        0.0        1.0        0.0  \n",
       "\n",
       "[5 rows x 250 columns]"
      ]
     },
     "execution_count": 97,
     "metadata": {},
     "output_type": "execute_result"
    }
   ],
   "source": [
    "X_fteng3.tail()"
   ]
  },
  {
   "cell_type": "code",
   "execution_count": 98,
   "metadata": {},
   "outputs": [
    {
     "name": "stdout",
     "output_type": "stream",
     "text": [
      "Mean accuracy:  0.7839817294062056\n"
     ]
    }
   ],
   "source": [
    "scores = cross_val_score(rf, X_fteng3, y_fteng, scoring='accuracy', cv=cv, n_jobs=-1)\n",
    "print('Mean accuracy: ' , np.mean(scores))"
   ]
  },
  {
   "cell_type": "markdown",
   "metadata": {},
   "source": [
    "Conclusion: I will use feature hasing to handle the categorial data"
   ]
  },
  {
   "cell_type": "markdown",
   "metadata": {},
   "source": [
    "### Hanling with the numerical data"
   ]
  },
  {
   "cell_type": "code",
   "execution_count": 99,
   "metadata": {},
   "outputs": [
    {
     "data": {
      "text/html": [
       "<div>\n",
       "<style scoped>\n",
       "    .dataframe tbody tr th:only-of-type {\n",
       "        vertical-align: middle;\n",
       "    }\n",
       "\n",
       "    .dataframe tbody tr th {\n",
       "        vertical-align: top;\n",
       "    }\n",
       "\n",
       "    .dataframe thead th {\n",
       "        text-align: right;\n",
       "    }\n",
       "</style>\n",
       "<table border=\"1\" class=\"dataframe\">\n",
       "  <thead>\n",
       "    <tr style=\"text-align: right;\">\n",
       "      <th></th>\n",
       "      <th>idx</th>\n",
       "      <th>serving_size</th>\n",
       "      <th>Unnamed: 0</th>\n",
       "      <th>1002</th>\n",
       "      <th>1003</th>\n",
       "      <th>1004</th>\n",
       "      <th>1005</th>\n",
       "      <th>1007</th>\n",
       "      <th>1008</th>\n",
       "      <th>1009</th>\n",
       "      <th>...</th>\n",
       "      <th>2021</th>\n",
       "      <th>2022</th>\n",
       "      <th>2023</th>\n",
       "      <th>2024</th>\n",
       "      <th>2025</th>\n",
       "      <th>2026</th>\n",
       "      <th>2028</th>\n",
       "      <th>2029</th>\n",
       "      <th>2032</th>\n",
       "      <th>2033</th>\n",
       "    </tr>\n",
       "  </thead>\n",
       "  <tbody>\n",
       "    <tr>\n",
       "      <th>count</th>\n",
       "      <td>31751.000000</td>\n",
       "      <td>31751.000000</td>\n",
       "      <td>31751.000000</td>\n",
       "      <td>31751.0</td>\n",
       "      <td>31751.000000</td>\n",
       "      <td>31751.000000</td>\n",
       "      <td>31751.000000</td>\n",
       "      <td>31751.0</td>\n",
       "      <td>31751.000000</td>\n",
       "      <td>31751.000000</td>\n",
       "      <td>...</td>\n",
       "      <td>31751.0</td>\n",
       "      <td>31751.0</td>\n",
       "      <td>31751.0</td>\n",
       "      <td>31751.0</td>\n",
       "      <td>31751.0</td>\n",
       "      <td>31751.0</td>\n",
       "      <td>31751.0</td>\n",
       "      <td>31751.0</td>\n",
       "      <td>31751.0</td>\n",
       "      <td>31751.0</td>\n",
       "    </tr>\n",
       "    <tr>\n",
       "      <th>mean</th>\n",
       "      <td>17633.624201</td>\n",
       "      <td>37.640052</td>\n",
       "      <td>15875.000000</td>\n",
       "      <td>0.0</td>\n",
       "      <td>6.969363</td>\n",
       "      <td>22.696969</td>\n",
       "      <td>59.658349</td>\n",
       "      <td>0.0</td>\n",
       "      <td>460.058455</td>\n",
       "      <td>0.001485</td>\n",
       "      <td>...</td>\n",
       "      <td>0.0</td>\n",
       "      <td>0.0</td>\n",
       "      <td>0.0</td>\n",
       "      <td>0.0</td>\n",
       "      <td>0.0</td>\n",
       "      <td>0.0</td>\n",
       "      <td>0.0</td>\n",
       "      <td>0.0</td>\n",
       "      <td>0.0</td>\n",
       "      <td>0.0</td>\n",
       "    </tr>\n",
       "    <tr>\n",
       "      <th>std</th>\n",
       "      <td>10176.708489</td>\n",
       "      <td>20.942359</td>\n",
       "      <td>9165.868535</td>\n",
       "      <td>0.0</td>\n",
       "      <td>6.326502</td>\n",
       "      <td>16.334593</td>\n",
       "      <td>20.385734</td>\n",
       "      <td>0.0</td>\n",
       "      <td>99.050340</td>\n",
       "      <td>0.264552</td>\n",
       "      <td>...</td>\n",
       "      <td>0.0</td>\n",
       "      <td>0.0</td>\n",
       "      <td>0.0</td>\n",
       "      <td>0.0</td>\n",
       "      <td>0.0</td>\n",
       "      <td>0.0</td>\n",
       "      <td>0.0</td>\n",
       "      <td>0.0</td>\n",
       "      <td>0.0</td>\n",
       "      <td>0.0</td>\n",
       "    </tr>\n",
       "    <tr>\n",
       "      <th>min</th>\n",
       "      <td>1.000000</td>\n",
       "      <td>0.225000</td>\n",
       "      <td>0.000000</td>\n",
       "      <td>0.0</td>\n",
       "      <td>0.000000</td>\n",
       "      <td>0.000000</td>\n",
       "      <td>0.000000</td>\n",
       "      <td>0.0</td>\n",
       "      <td>0.000000</td>\n",
       "      <td>0.000000</td>\n",
       "      <td>...</td>\n",
       "      <td>0.0</td>\n",
       "      <td>0.0</td>\n",
       "      <td>0.0</td>\n",
       "      <td>0.0</td>\n",
       "      <td>0.0</td>\n",
       "      <td>0.0</td>\n",
       "      <td>0.0</td>\n",
       "      <td>0.0</td>\n",
       "      <td>0.0</td>\n",
       "      <td>0.0</td>\n",
       "    </tr>\n",
       "    <tr>\n",
       "      <th>25%</th>\n",
       "      <td>8840.500000</td>\n",
       "      <td>28.000000</td>\n",
       "      <td>7937.500000</td>\n",
       "      <td>0.0</td>\n",
       "      <td>3.330000</td>\n",
       "      <td>10.940000</td>\n",
       "      <td>50.000000</td>\n",
       "      <td>0.0</td>\n",
       "      <td>391.000000</td>\n",
       "      <td>0.000000</td>\n",
       "      <td>...</td>\n",
       "      <td>0.0</td>\n",
       "      <td>0.0</td>\n",
       "      <td>0.0</td>\n",
       "      <td>0.0</td>\n",
       "      <td>0.0</td>\n",
       "      <td>0.0</td>\n",
       "      <td>0.0</td>\n",
       "      <td>0.0</td>\n",
       "      <td>0.0</td>\n",
       "      <td>0.0</td>\n",
       "    </tr>\n",
       "    <tr>\n",
       "      <th>50%</th>\n",
       "      <td>17615.000000</td>\n",
       "      <td>30.000000</td>\n",
       "      <td>15875.000000</td>\n",
       "      <td>0.0</td>\n",
       "      <td>5.260000</td>\n",
       "      <td>21.430000</td>\n",
       "      <td>60.710000</td>\n",
       "      <td>0.0</td>\n",
       "      <td>464.000000</td>\n",
       "      <td>0.000000</td>\n",
       "      <td>...</td>\n",
       "      <td>0.0</td>\n",
       "      <td>0.0</td>\n",
       "      <td>0.0</td>\n",
       "      <td>0.0</td>\n",
       "      <td>0.0</td>\n",
       "      <td>0.0</td>\n",
       "      <td>0.0</td>\n",
       "      <td>0.0</td>\n",
       "      <td>0.0</td>\n",
       "      <td>0.0</td>\n",
       "    </tr>\n",
       "    <tr>\n",
       "      <th>75%</th>\n",
       "      <td>26458.500000</td>\n",
       "      <td>40.000000</td>\n",
       "      <td>23812.500000</td>\n",
       "      <td>0.0</td>\n",
       "      <td>8.000000</td>\n",
       "      <td>32.140000</td>\n",
       "      <td>72.500000</td>\n",
       "      <td>0.0</td>\n",
       "      <td>533.000000</td>\n",
       "      <td>0.000000</td>\n",
       "      <td>...</td>\n",
       "      <td>0.0</td>\n",
       "      <td>0.0</td>\n",
       "      <td>0.0</td>\n",
       "      <td>0.0</td>\n",
       "      <td>0.0</td>\n",
       "      <td>0.0</td>\n",
       "      <td>0.0</td>\n",
       "      <td>0.0</td>\n",
       "      <td>0.0</td>\n",
       "      <td>0.0</td>\n",
       "    </tr>\n",
       "    <tr>\n",
       "      <th>max</th>\n",
       "      <td>35276.000000</td>\n",
       "      <td>480.000000</td>\n",
       "      <td>31750.000000</td>\n",
       "      <td>0.0</td>\n",
       "      <td>100.000000</td>\n",
       "      <td>100.000000</td>\n",
       "      <td>100.000000</td>\n",
       "      <td>0.0</td>\n",
       "      <td>2157.000000</td>\n",
       "      <td>47.140000</td>\n",
       "      <td>...</td>\n",
       "      <td>0.0</td>\n",
       "      <td>0.0</td>\n",
       "      <td>0.0</td>\n",
       "      <td>0.0</td>\n",
       "      <td>0.0</td>\n",
       "      <td>0.0</td>\n",
       "      <td>0.0</td>\n",
       "      <td>0.0</td>\n",
       "      <td>0.0</td>\n",
       "      <td>0.0</td>\n",
       "    </tr>\n",
       "  </tbody>\n",
       "</table>\n",
       "<p>8 rows × 238 columns</p>\n",
       "</div>"
      ],
      "text/plain": [
       "                idx  serving_size    Unnamed: 0     1002          1003  \\\n",
       "count  31751.000000  31751.000000  31751.000000  31751.0  31751.000000   \n",
       "mean   17633.624201     37.640052  15875.000000      0.0      6.969363   \n",
       "std    10176.708489     20.942359   9165.868535      0.0      6.326502   \n",
       "min        1.000000      0.225000      0.000000      0.0      0.000000   \n",
       "25%     8840.500000     28.000000   7937.500000      0.0      3.330000   \n",
       "50%    17615.000000     30.000000  15875.000000      0.0      5.260000   \n",
       "75%    26458.500000     40.000000  23812.500000      0.0      8.000000   \n",
       "max    35276.000000    480.000000  31750.000000      0.0    100.000000   \n",
       "\n",
       "               1004          1005     1007          1008          1009  ...  \\\n",
       "count  31751.000000  31751.000000  31751.0  31751.000000  31751.000000  ...   \n",
       "mean      22.696969     59.658349      0.0    460.058455      0.001485  ...   \n",
       "std       16.334593     20.385734      0.0     99.050340      0.264552  ...   \n",
       "min        0.000000      0.000000      0.0      0.000000      0.000000  ...   \n",
       "25%       10.940000     50.000000      0.0    391.000000      0.000000  ...   \n",
       "50%       21.430000     60.710000      0.0    464.000000      0.000000  ...   \n",
       "75%       32.140000     72.500000      0.0    533.000000      0.000000  ...   \n",
       "max      100.000000    100.000000      0.0   2157.000000     47.140000  ...   \n",
       "\n",
       "          2021     2022     2023     2024     2025     2026     2028     2029  \\\n",
       "count  31751.0  31751.0  31751.0  31751.0  31751.0  31751.0  31751.0  31751.0   \n",
       "mean       0.0      0.0      0.0      0.0      0.0      0.0      0.0      0.0   \n",
       "std        0.0      0.0      0.0      0.0      0.0      0.0      0.0      0.0   \n",
       "min        0.0      0.0      0.0      0.0      0.0      0.0      0.0      0.0   \n",
       "25%        0.0      0.0      0.0      0.0      0.0      0.0      0.0      0.0   \n",
       "50%        0.0      0.0      0.0      0.0      0.0      0.0      0.0      0.0   \n",
       "75%        0.0      0.0      0.0      0.0      0.0      0.0      0.0      0.0   \n",
       "max        0.0      0.0      0.0      0.0      0.0      0.0      0.0      0.0   \n",
       "\n",
       "          2032     2033  \n",
       "count  31751.0  31751.0  \n",
       "mean       0.0      0.0  \n",
       "std        0.0      0.0  \n",
       "min        0.0      0.0  \n",
       "25%        0.0      0.0  \n",
       "50%        0.0      0.0  \n",
       "75%        0.0      0.0  \n",
       "max        0.0      0.0  \n",
       "\n",
       "[8 rows x 238 columns]"
      ]
     },
     "execution_count": 99,
     "metadata": {},
     "output_type": "execute_result"
    }
   ],
   "source": [
    "main4.describe()"
   ]
  },
  {
   "cell_type": "code",
   "execution_count": 100,
   "metadata": {},
   "outputs": [],
   "source": [
    "\n",
    "vt = VarianceThreshold(0.01)\n",
    "transformed = vt.fit_transform(X_fteng3)\n",
    "_ = vt.fit(X_fteng3)\n",
    "mask = vt.get_support()\n",
    "Xfeng_rdc = X_fteng3.loc[:, mask]"
   ]
  },
  {
   "cell_type": "code",
   "execution_count": 101,
   "metadata": {},
   "outputs": [
    {
     "name": "stdout",
     "output_type": "stream",
     "text": [
      "Mean accuracy:  0.8211529374704679\n"
     ]
    }
   ],
   "source": [
    "scores = cross_val_score(rf, Xfeng_rdc, y_fteng, scoring='accuracy', cv=cv, n_jobs=-1)\n",
    "print('Mean accuracy: ' , np.mean(scores))"
   ]
  },
  {
   "cell_type": "markdown",
   "metadata": {},
   "source": [
    " trying to perform yeo-johnson (all values are non-negetive but there are zeros) on the data' it's not neccesary for random forest but it can improe performance\n"
   ]
  },
  {
   "cell_type": "code",
   "execution_count": 102,
   "metadata": {},
   "outputs": [],
   "source": [
    "#Xfeng_rdc.iloc[ :,:44].astype('float64')\n",
    "#Xfeng_rdc.iloc[ :,44:].astype('bool')\n",
    "#main.loc[:, \"serving_size_unit\"] = main.serving_size_unit.astype('category')\n",
    "#dfd = Xfeng_rdc.copy()\n",
    "#Xfeng_rdc.select_dtypes(include=['float64'])\n",
    "#Xfeng_rdc.select_dtypes(include=[ 'bool'])"
   ]
  },
  {
   "cell_type": "code",
   "execution_count": 103,
   "metadata": {},
   "outputs": [
    {
     "name": "stderr",
     "output_type": "stream",
     "text": [
      "/tmp/ipykernel_13035/2826948854.py:2: SettingWithCopyWarning: \n",
      "A value is trying to be set on a copy of a slice from a DataFrame\n",
      "\n",
      "See the caveats in the documentation: https://pandas.pydata.org/pandas-docs/stable/user_guide/indexing.html#returning-a-view-versus-a-copy\n",
      "  Xfeng_rdc.iloc[ :,:44] = Xfeng_rdc.iloc[ :,:44].astype('float64')\n",
      "/tmp/ipykernel_13035/2826948854.py:3: SettingWithCopyWarning: \n",
      "A value is trying to be set on a copy of a slice from a DataFrame.\n",
      "Try using .loc[row_indexer,col_indexer] = value instead\n",
      "\n",
      "See the caveats in the documentation: https://pandas.pydata.org/pandas-docs/stable/user_guide/indexing.html#returning-a-view-versus-a-copy\n",
      "  Xfeng_rdc.iloc[ :,44:] = Xfeng_rdc.iloc[ :,44:].astype('bool')\n"
     ]
    }
   ],
   "source": [
    "# determine categorical and numerical features\n",
    "Xfeng_rdc.iloc[ :,:44] = Xfeng_rdc.iloc[ :,:44].astype('float64')\n",
    "Xfeng_rdc.iloc[ :,44:] = Xfeng_rdc.iloc[ :,44:].astype('bool')\n",
    "#main.loc[:, \"serving_size_unit\"] = main.serving_size_unit.astype('category')\n",
    "#dfd = Xfeng_rdc.copy()\n",
    "\n",
    "numerical_ix = Xfeng_rdc.select_dtypes(include=['float64']).columns\n",
    "categorical_ix = Xfeng_rdc.select_dtypes(include=[ 'bool']).columns\n"
   ]
  },
  {
   "cell_type": "code",
   "execution_count": 104,
   "metadata": {},
   "outputs": [],
   "source": [
    "t = [('scl', StandardScaler(with_std= False), Xfeng_rdc.iloc[ :,:1].columns) ,('num', PowerTransformer(method='box-cox', standardize=True,), Xfeng_rdc.iloc[ :,:1].columns)]\n",
    "col_transform = ColumnTransformer(transformers=t)"
   ]
  },
  {
   "cell_type": "code",
   "execution_count": 105,
   "metadata": {},
   "outputs": [
    {
     "name": "stdout",
     "output_type": "stream",
     "text": [
      "Mean accuracy:  0.7987084580248859\n"
     ]
    }
   ],
   "source": [
    "t = [ ('scale', MinMaxScaler(),numerical_ix) ,('num', PowerTransformer(method='yeo-johnson', standardize=True,), Xfeng_rdc.iloc[ :,:5].columns)]\n",
    "col_transform = ColumnTransformer(transformers=t, remainder='passthrough')\n",
    "pipeline = Pipeline(steps=[('prep',col_transform), ('m', rf)])\n",
    "# evaluate the pipeline using cross validation and calculate accuracy\n",
    "scores = cross_val_score(pipeline, Xfeng_rdc, y_fteng, scoring='accuracy', cv=cv, n_jobs=-1)\n",
    "print('Mean accuracy: ' , np.mean(scores))"
   ]
  },
  {
   "cell_type": "markdown",
   "metadata": {},
   "source": [
    "Peformance loss"
   ]
  },
  {
   "cell_type": "code",
   "execution_count": 106,
   "metadata": {},
   "outputs": [
    {
     "name": "stdout",
     "output_type": "stream",
     "text": [
      "Mean accuracy:  0.7987084580248859\n"
     ]
    }
   ],
   "source": [
    "\n",
    "t = [ ('scale', StandardScaler(),numerical_ix) ,('num', PowerTransformer(method='yeo-johnson', standardize=True,), Xfeng_rdc.iloc[ :,:5].columns)]\n",
    "col_transform = ColumnTransformer(transformers=t, remainder='passthrough')\n",
    "pipeline = Pipeline(steps=[('prep',col_transform), ('m', rf)])\n",
    "# evaluate the pipeline using cross validation and calculate accuracy\n",
    "scores = cross_val_score(pipeline, Xfeng_rdc, y_fteng, scoring='accuracy', cv=cv, n_jobs=-1)\n",
    "print('Mean accuracy: ' , np.mean(scores))"
   ]
  },
  {
   "cell_type": "markdown",
   "metadata": {},
   "source": [
    "same perfoemance"
   ]
  },
  {
   "cell_type": "code",
   "execution_count": 107,
   "metadata": {},
   "outputs": [
    {
     "name": "stdout",
     "output_type": "stream",
     "text": [
      "Mean accuracy:  0.806150574893684\n"
     ]
    }
   ],
   "source": [
    "\n",
    "t = [ ('spline', SplineTransformer(degree=2, n_knots=3),Xfeng_rdc.iloc[ :,5:46].columns) ,('num', PowerTransformer(method='yeo-johnson', standardize=True,), Xfeng_rdc.iloc[ :,:5].columns)]\n",
    "col_transform = ColumnTransformer(transformers=t, remainder='passthrough')\n",
    "pipeline = Pipeline(steps=[('prep',col_transform), ('m', rf)])\n",
    "\n",
    "# evaluate the pipeline using cross validation and calculate accuracy\n",
    "scores = cross_val_score(pipeline, Xfeng_rdc, y_fteng, scoring='accuracy', cv=cv, n_jobs=-1)\n",
    "print('Mean accuracy: ' , np.mean(scores))"
   ]
  },
  {
   "cell_type": "code",
   "execution_count": 108,
   "metadata": {},
   "outputs": [
    {
     "name": "stdout",
     "output_type": "stream",
     "text": [
      "Mean accuracy:  0.7710269333753346\n"
     ]
    }
   ],
   "source": [
    "t = [ ('poly', PolynomialFeatures(2),Xfeng_rdc.iloc[ :,0:5].columns) ]\n",
    "col_transform = ColumnTransformer(transformers=t, remainder='passthrough')\n",
    "pipeline = Pipeline(steps=[('prep',col_transform), ('m', rf)])\n",
    "\n",
    "# evaluate the pipeline using cross validation and calculate accuracy\n",
    "scores = cross_val_score(pipeline, Xfeng_rdc, y_fteng, scoring='accuracy', cv=cv, n_jobs=-1)\n",
    "print('Mean accuracy: ' , np.mean(scores))"
   ]
  },
  {
   "cell_type": "code",
   "execution_count": 109,
   "metadata": {},
   "outputs": [
    {
     "name": "stdout",
     "output_type": "stream",
     "text": [
      "Mean accuracy:  0.8211923137501971\n"
     ]
    }
   ],
   "source": [
    "\n",
    "t = [ ('min_max_scale', MinMaxScaler(),Xfeng_rdc.iloc[ :,0:44].columns) ]\n",
    "col_transform = ColumnTransformer(transformers=t, remainder='passthrough')\n",
    "pipeline = Pipeline(steps=[('prep',col_transform), ('m', rf)])\n",
    "# evaluate the pipeline using cross validation and calculate accuracy\n",
    "scores = cross_val_score(pipeline, Xfeng_rdc, y_fteng, scoring='accuracy', cv=cv, n_jobs=-1)\n",
    "print('Mean accuracy: ' , np.mean(scores))"
   ]
  },
  {
   "cell_type": "code",
   "execution_count": 110,
   "metadata": {},
   "outputs": [
    {
     "name": "stdout",
     "output_type": "stream",
     "text": [
      "Mean accuracy:  0.8211529374704679\n"
     ]
    }
   ],
   "source": [
    "\n",
    "t = [ ('scale', StandardScaler(),Xfeng_rdc.iloc[ :,0:44].columns) ]\n",
    "col_transform = ColumnTransformer(transformers=t, remainder='passthrough')\n",
    "pipeline = Pipeline(steps=[('prep',col_transform), ('m', rf)])\n",
    "# evaluate the pipeline using cross validation and calculate accuracy\n",
    "scores = cross_val_score(pipeline, Xfeng_rdc, y_fteng, scoring='accuracy', cv=cv, n_jobs=-1)\n",
    "print('Mean accuracy: ' , np.mean(scores))"
   ]
  },
  {
   "cell_type": "markdown",
   "metadata": {},
   "source": [
    "Conclusion: I will do min max transformation on the numercial variables and remove the zero variance predictors"
   ]
  },
  {
   "cell_type": "code",
   "execution_count": 111,
   "metadata": {},
   "outputs": [],
   "source": [
    "X_class_imb2 = X_class_imb.copy()\n",
    "X_class_imb2 = X_class_imb2.assign(brand = ['other_brand' if item not in unique_brand_list else item for item in X_class_imb2['brand']],\n",
    "                     servings = ['other_serving' if item not in unique_serv_list else item for item in X_class_imb2['servings']])\n",
    "\n",
    "hashed_brand = encoder30.fit_transform(X_class_imb2[['brand']])\n",
    "hashed_serv =  encoder15.fit_transform(X_class_imb2[['servings']])\n",
    "#oh_brand = enc.fit_transform(X_fteng2[['brand']]).toarray()\n",
    "hashed_brand = pd.DataFrame(hashed_brand).add_prefix('brand')\n",
    "hashed_serv = pd.DataFrame(hashed_serv).add_prefix('serving')\n",
    "\n",
    "# adding same index to prevent NAN's\n",
    "hashed_serv.index = X_class_imb2.index\n",
    "hashed_brand.index = X_class_imb2.index\n",
    "X_class_imb3 = pd.concat([X_class_imb2,hashed_serv], axis = 1)\n",
    "X_class_imb3 = pd.concat([X_class_imb3,hashed_brand], axis = 1)\n",
    "X_class_imb3 = X_class_imb3.drop(['brand',\"servings\",\"category\", \"Unnamed: 0\",'idx'], axis = 1)\n",
    "\n",
    "\n",
    "cl= X_class_imb3.columns.get_loc('2033') + 1\n",
    "X_class_imb3.iloc[ :,:cl] = X_class_imb3.iloc[ :,:cl].astype('float64')\n",
    "X_class_imb3.iloc[ :,cl:] = X_class_imb3.iloc[ :,cl:].astype('bool')\n",
    "\n",
    "# determine categorical and numerical features\n",
    "\n",
    "\n",
    "# droping the zero var columns \n",
    "vt = VarianceThreshold()\n",
    "transformed = vt.fit_transform(X_class_imb3)\n",
    "_ = vt.fit(X_class_imb3)\n",
    "mask = vt.get_support()\n",
    "X_class_imb3 = X_class_imb3.loc[:, mask]\n",
    "\n",
    "# determine categorical and numerical features that's left\n",
    "numerical_ix = X_class_imb3.select_dtypes(include=['float64']).columns\n",
    "categorical_ix = X_class_imb3.select_dtypes(include=[ 'bool']).columns\n",
    "\n",
    "# transforming with min max\n",
    "t = [ ('scale', MinMaxScaler(),numerical_ix)]\n",
    "ct = ColumnTransformer(transformers=t, remainder='passthrough')\n",
    "X_trans = ct.fit_transform(X_class_imb3)  \n",
    "X_class_imb4 = pd.DataFrame(X_trans, index=X_class_imb3.index, columns=X_class_imb3.columns)\n"
   ]
  },
  {
   "cell_type": "markdown",
   "metadata": {},
   "source": [
    "# handling class imbalance"
   ]
  },
  {
   "cell_type": "markdown",
   "metadata": {},
   "source": [
    "we will comapre between 2 methods. class_weights and SMOTE with down sample"
   ]
  },
  {
   "cell_type": "markdown",
   "metadata": {},
   "source": [
    "### Class weights - Cost sensitive learning "
   ]
  },
  {
   "cell_type": "code",
   "execution_count": 112,
   "metadata": {},
   "outputs": [],
   "source": [
    "\n",
    "rf_cs = RandomForestClassifier(max_depth=4, random_state=0, criterion= \"entropy\", class_weight = 'balanced' )\n",
    "#clf.fit(X, y)"
   ]
  },
  {
   "cell_type": "markdown",
   "metadata": {},
   "source": [
    "With Cost Sensitive learning"
   ]
  },
  {
   "cell_type": "code",
   "execution_count": 113,
   "metadata": {},
   "outputs": [
    {
     "name": "stdout",
     "output_type": "stream",
     "text": [
      "Mean accuracy:  0.7890085798658503\n"
     ]
    }
   ],
   "source": [
    "scores = cross_val_score(rf_cs, X_class_imb4, y_class_imb, scoring='accuracy', cv=cv, n_jobs=-1)\n",
    "print('Mean accuracy: ' , np.mean(scores))"
   ]
  },
  {
   "cell_type": "markdown",
   "metadata": {},
   "source": [
    "Without"
   ]
  },
  {
   "cell_type": "code",
   "execution_count": 114,
   "metadata": {},
   "outputs": [
    {
     "name": "stdout",
     "output_type": "stream",
     "text": [
      "Mean accuracy:  0.8166433126587627\n"
     ]
    }
   ],
   "source": [
    "scores = cross_val_score(rf, X_class_imb4, y_class_imb, scoring='accuracy', cv=cv, n_jobs=-1)\n",
    "print('Mean accuracy: ' , np.mean(scores))"
   ]
  },
  {
   "cell_type": "markdown",
   "metadata": {},
   "source": [
    "### SMOTE and undersampling"
   ]
  },
  {
   "cell_type": "code",
   "execution_count": 115,
   "metadata": {},
   "outputs": [],
   "source": [
    "\n",
    "\n",
    "# define pipeline\n",
    "over = SMOTE(sampling_strategy='all')\n",
    "under = RandomUnderSampler(sampling_strategy='all')\n",
    "steps = [('u', under),('o', over)]\n",
    "pipeline = Pipeline(steps=steps)\n",
    "# transform the dataset\n",
    "X_smote, y_smote = pipeline.fit_resample(X_class_imb4, y_class_imb)"
   ]
  },
  {
   "cell_type": "code",
   "execution_count": 116,
   "metadata": {},
   "outputs": [
    {
     "name": "stdout",
     "output_type": "stream",
     "text": [
      "Mean accuracy:  0.8200289466024129\n"
     ]
    }
   ],
   "source": [
    "\n",
    "\n",
    "#cv = RepeatedStratifiedKFold(n_splits=7, n_repeats=3, random_state=1)\n",
    "scores = cross_val_score(rf, X_smote, y_smote, scoring='accuracy', cv=cv, n_jobs=-1)\n",
    "print('Mean accuracy: ' , np.mean(scores))"
   ]
  },
  {
   "cell_type": "markdown",
   "metadata": {},
   "source": [
    "Conclusion We wll use Smote and Undersampling"
   ]
  },
  {
   "cell_type": "markdown",
   "metadata": {},
   "source": [
    "# Feature selection\n"
   ]
  },
  {
   "cell_type": "code",
   "execution_count": 117,
   "metadata": {},
   "outputs": [],
   "source": [
    "X_var_selection2 = X_var_selection.copy()\n",
    "X_var_selection2 = X_var_selection2.assign(brand = ['other_brand' if item not in unique_brand_list else item for item in X_var_selection2['brand']],\n",
    "                     servings = ['other_serving' if item not in unique_serv_list else item for item in X_var_selection2['servings']])\n",
    "hashed_brand = encoder30.fit_transform(X_var_selection2.brand)\n",
    "hashed_serv =  encoder15.fit_transform(X_var_selection2.servings)\n",
    "\n",
    "hashed_brand = pd.DataFrame(hashed_brand).add_prefix('brand')\n",
    "hashed_serv = pd.DataFrame(hashed_serv).add_prefix('serving')\n",
    "\n",
    "# adding same index to prevent NAN's\n",
    "hashed_serv.index = X_var_selection2.index\n",
    "hashed_serv.index = X_var_selection2.index\n",
    "X_var_selection3 = pd.concat([X_var_selection2,hashed_brand], axis = 1)\n",
    "X_var_selection3 = pd.concat([X_var_selection3,hashed_serv], axis = 1)\n",
    "X_var_selection3 = X_var_selection3.drop(['brand',\"servings\",\"category\", \"Unnamed: 0\",'idx'], axis = 1)\n",
    "\n",
    "cl = X_var_selection3.columns.get_loc('2033') + 1\n",
    "X_var_selection3.iloc[ :,:cl] = X_var_selection3.iloc[ :,:cl].astype('float64')\n",
    "X_var_selection3.iloc[ :,cl:] = X_var_selection3.iloc[ :,cl:].astype('bool')\n",
    "\n",
    "# droping the zero var columns \n",
    "vt = VarianceThreshold()\n",
    "_ = vt.fit(X_var_selection3)\n",
    "mask = vt.get_support()\n",
    "X_var_selection4 = X_var_selection3.loc[:, mask]\n",
    "\n",
    "# determine categorical and numerical features that's left\n",
    "numerical_ix = X_var_selection4.select_dtypes(include=['float64']).columns\n",
    "categorical_ix = X_var_selection4.select_dtypes(include=[ 'bool']).columns\n",
    "\n",
    "# transforming with min max\n",
    "t = [ ('scale', MinMaxScaler(),numerical_ix)]\n",
    "ct = ColumnTransformer(transformers=t, remainder='passthrough')\n",
    "X_trans = ct.fit_transform(X_var_selection4)  \n",
    "X_var_selection5 = pd.DataFrame(X_trans, index=X_var_selection4.index, columns=X_var_selection4.columns)\n",
    "\n",
    "# define pipeline\n",
    "over = SMOTE(sampling_strategy='all')\n",
    "under = RandomUnderSampler(sampling_strategy='all')\n",
    "steps = [('u', under),('o', over)]\n",
    "pipeline = Pipeline(steps=steps)\n",
    "# transform the dataset\n",
    "X_var_selection6, y_var_selection2 = pipeline.fit_resample(X_var_selection5, y_var_selection)"
   ]
  },
  {
   "cell_type": "code",
   "execution_count": 118,
   "metadata": {},
   "outputs": [
    {
     "data": {
      "text/html": [
       "<div>\n",
       "<style scoped>\n",
       "    .dataframe tbody tr th:only-of-type {\n",
       "        vertical-align: middle;\n",
       "    }\n",
       "\n",
       "    .dataframe tbody tr th {\n",
       "        vertical-align: top;\n",
       "    }\n",
       "\n",
       "    .dataframe thead th {\n",
       "        text-align: right;\n",
       "    }\n",
       "</style>\n",
       "<table border=\"1\" class=\"dataframe\">\n",
       "  <thead>\n",
       "    <tr style=\"text-align: right;\">\n",
       "      <th></th>\n",
       "      <th>serving_size</th>\n",
       "      <th>1003</th>\n",
       "      <th>1004</th>\n",
       "      <th>1005</th>\n",
       "      <th>1008</th>\n",
       "      <th>1056</th>\n",
       "      <th>1072</th>\n",
       "      <th>1079</th>\n",
       "      <th>1082</th>\n",
       "      <th>1084</th>\n",
       "      <th>...</th>\n",
       "      <th>brandcol_9</th>\n",
       "      <th>brandcol_11</th>\n",
       "      <th>brandcol_12</th>\n",
       "      <th>brandcol_15</th>\n",
       "      <th>brandcol_29</th>\n",
       "      <th>servingcol_5</th>\n",
       "      <th>servingcol_6</th>\n",
       "      <th>servingcol_8</th>\n",
       "      <th>servingcol_9</th>\n",
       "      <th>servingcol_10</th>\n",
       "    </tr>\n",
       "  </thead>\n",
       "  <tbody>\n",
       "    <tr>\n",
       "      <th>564</th>\n",
       "      <td>0.581036</td>\n",
       "      <td>0.023164</td>\n",
       "      <td>0.139654</td>\n",
       "      <td>0.3409</td>\n",
       "      <td>0.122159</td>\n",
       "      <td>0.0</td>\n",
       "      <td>0.0</td>\n",
       "      <td>0.026786</td>\n",
       "      <td>0.0</td>\n",
       "      <td>0.0</td>\n",
       "      <td>...</td>\n",
       "      <td>0.0</td>\n",
       "      <td>0.0</td>\n",
       "      <td>0.0</td>\n",
       "      <td>0.0</td>\n",
       "      <td>0.0</td>\n",
       "      <td>0.0</td>\n",
       "      <td>0.0</td>\n",
       "      <td>0.0</td>\n",
       "      <td>1.0</td>\n",
       "      <td>0.0</td>\n",
       "    </tr>\n",
       "    <tr>\n",
       "      <th>3379</th>\n",
       "      <td>0.263506</td>\n",
       "      <td>0.101646</td>\n",
       "      <td>0.341251</td>\n",
       "      <td>0.5667</td>\n",
       "      <td>0.260417</td>\n",
       "      <td>0.0</td>\n",
       "      <td>0.0</td>\n",
       "      <td>0.030357</td>\n",
       "      <td>0.0</td>\n",
       "      <td>0.0</td>\n",
       "      <td>...</td>\n",
       "      <td>0.0</td>\n",
       "      <td>0.0</td>\n",
       "      <td>0.0</td>\n",
       "      <td>1.0</td>\n",
       "      <td>0.0</td>\n",
       "      <td>0.0</td>\n",
       "      <td>0.0</td>\n",
       "      <td>0.0</td>\n",
       "      <td>1.0</td>\n",
       "      <td>0.0</td>\n",
       "    </tr>\n",
       "    <tr>\n",
       "      <th>4248</th>\n",
       "      <td>0.126792</td>\n",
       "      <td>0.315300</td>\n",
       "      <td>0.529538</td>\n",
       "      <td>0.2069</td>\n",
       "      <td>0.277462</td>\n",
       "      <td>0.0</td>\n",
       "      <td>0.0</td>\n",
       "      <td>0.183929</td>\n",
       "      <td>0.0</td>\n",
       "      <td>0.0</td>\n",
       "      <td>...</td>\n",
       "      <td>0.0</td>\n",
       "      <td>0.0</td>\n",
       "      <td>0.0</td>\n",
       "      <td>1.0</td>\n",
       "      <td>0.0</td>\n",
       "      <td>0.0</td>\n",
       "      <td>0.0</td>\n",
       "      <td>0.0</td>\n",
       "      <td>1.0</td>\n",
       "      <td>0.0</td>\n",
       "    </tr>\n",
       "    <tr>\n",
       "      <th>4201</th>\n",
       "      <td>0.175303</td>\n",
       "      <td>0.114294</td>\n",
       "      <td>0.179175</td>\n",
       "      <td>0.7250</td>\n",
       "      <td>0.222538</td>\n",
       "      <td>0.0</td>\n",
       "      <td>0.0</td>\n",
       "      <td>0.044643</td>\n",
       "      <td>0.0</td>\n",
       "      <td>0.0</td>\n",
       "      <td>...</td>\n",
       "      <td>0.0</td>\n",
       "      <td>0.0</td>\n",
       "      <td>0.0</td>\n",
       "      <td>1.0</td>\n",
       "      <td>0.0</td>\n",
       "      <td>0.0</td>\n",
       "      <td>0.0</td>\n",
       "      <td>0.0</td>\n",
       "      <td>1.0</td>\n",
       "      <td>0.0</td>\n",
       "    </tr>\n",
       "    <tr>\n",
       "      <th>918</th>\n",
       "      <td>0.095921</td>\n",
       "      <td>0.069339</td>\n",
       "      <td>0.000000</td>\n",
       "      <td>0.7727</td>\n",
       "      <td>0.150568</td>\n",
       "      <td>0.0</td>\n",
       "      <td>0.0</td>\n",
       "      <td>0.000000</td>\n",
       "      <td>0.0</td>\n",
       "      <td>0.0</td>\n",
       "      <td>...</td>\n",
       "      <td>0.0</td>\n",
       "      <td>0.0</td>\n",
       "      <td>0.0</td>\n",
       "      <td>1.0</td>\n",
       "      <td>0.0</td>\n",
       "      <td>0.0</td>\n",
       "      <td>0.0</td>\n",
       "      <td>0.0</td>\n",
       "      <td>1.0</td>\n",
       "      <td>0.0</td>\n",
       "    </tr>\n",
       "    <tr>\n",
       "      <th>59</th>\n",
       "      <td>0.219405</td>\n",
       "      <td>0.060957</td>\n",
       "      <td>0.225248</td>\n",
       "      <td>0.6400</td>\n",
       "      <td>0.217803</td>\n",
       "      <td>0.0</td>\n",
       "      <td>0.0</td>\n",
       "      <td>0.035714</td>\n",
       "      <td>0.0</td>\n",
       "      <td>0.0</td>\n",
       "      <td>...</td>\n",
       "      <td>0.0</td>\n",
       "      <td>0.0</td>\n",
       "      <td>0.0</td>\n",
       "      <td>1.0</td>\n",
       "      <td>0.0</td>\n",
       "      <td>0.0</td>\n",
       "      <td>0.0</td>\n",
       "      <td>0.0</td>\n",
       "      <td>1.0</td>\n",
       "      <td>0.0</td>\n",
       "    </tr>\n",
       "  </tbody>\n",
       "</table>\n",
       "<p>6 rows × 54 columns</p>\n",
       "</div>"
      ],
      "text/plain": [
       "      serving_size      1003      1004    1005      1008  1056  1072  \\\n",
       "564       0.581036  0.023164  0.139654  0.3409  0.122159   0.0   0.0   \n",
       "3379      0.263506  0.101646  0.341251  0.5667  0.260417   0.0   0.0   \n",
       "4248      0.126792  0.315300  0.529538  0.2069  0.277462   0.0   0.0   \n",
       "4201      0.175303  0.114294  0.179175  0.7250  0.222538   0.0   0.0   \n",
       "918       0.095921  0.069339  0.000000  0.7727  0.150568   0.0   0.0   \n",
       "59        0.219405  0.060957  0.225248  0.6400  0.217803   0.0   0.0   \n",
       "\n",
       "          1079  1082  1084  ...  brandcol_9  brandcol_11  brandcol_12  \\\n",
       "564   0.026786   0.0   0.0  ...         0.0          0.0          0.0   \n",
       "3379  0.030357   0.0   0.0  ...         0.0          0.0          0.0   \n",
       "4248  0.183929   0.0   0.0  ...         0.0          0.0          0.0   \n",
       "4201  0.044643   0.0   0.0  ...         0.0          0.0          0.0   \n",
       "918   0.000000   0.0   0.0  ...         0.0          0.0          0.0   \n",
       "59    0.035714   0.0   0.0  ...         0.0          0.0          0.0   \n",
       "\n",
       "      brandcol_15  brandcol_29  servingcol_5  servingcol_6  servingcol_8  \\\n",
       "564           0.0          0.0           0.0           0.0           0.0   \n",
       "3379          1.0          0.0           0.0           0.0           0.0   \n",
       "4248          1.0          0.0           0.0           0.0           0.0   \n",
       "4201          1.0          0.0           0.0           0.0           0.0   \n",
       "918           1.0          0.0           0.0           0.0           0.0   \n",
       "59            1.0          0.0           0.0           0.0           0.0   \n",
       "\n",
       "      servingcol_9  servingcol_10  \n",
       "564            1.0            0.0  \n",
       "3379           1.0            0.0  \n",
       "4248           1.0            0.0  \n",
       "4201           1.0            0.0  \n",
       "918            1.0            0.0  \n",
       "59             1.0            0.0  \n",
       "\n",
       "[6 rows x 54 columns]"
      ]
     },
     "execution_count": 118,
     "metadata": {},
     "output_type": "execute_result"
    }
   ],
   "source": [
    "X_var_selection6.sample(6)"
   ]
  },
  {
   "cell_type": "markdown",
   "metadata": {},
   "source": [
    "We will use feature selection with RFE across 6 different models' we will pick the predictors which were chosen acrross most of the models"
   ]
  },
  {
   "cell_type": "code",
   "execution_count": 119,
   "metadata": {},
   "outputs": [],
   "source": [
    "\n",
    "\n",
    "# make it a function \n",
    "def feat_select(mod, X, y, min_features = 1):\n",
    "    rfecv = RFECV(\n",
    "    estimator=mod,\n",
    "    step=1,\n",
    "    cv=StratifiedKFold(2),\n",
    "    scoring=\"accuracy\",\n",
    "    min_features_to_select= min_features,\n",
    "    \n",
    "    )\n",
    "    fited_model = rfecv.fit(X, y)\n",
    "    return fited_model , X.iloc[:,rfecv.support_].columns\n",
    "\n",
    "def plot_results(rfe_model, model_name, min_features = 1):\n",
    "    print(\"Optimal number of features : %d\" % rfe_model.n_features_)\n",
    "    #print(\"Selected columns : {}\" , {X_var_selection3.iloc[:,rfecv_lgbm.support_].columns})\n",
    "    mod_name = model_name\n",
    "    # Plot number of features VS. cross-validation scores\n",
    "    plt.figure()\n",
    "    plt.xlabel(\"Number of features selected\")\n",
    "    plt.ylabel(\"Cross validation score (accuracy)\")\n",
    "    plt.plot(\n",
    "        range(min_features, len(rfe_model.cv_results_['mean_test_score']) + min_features),\n",
    "        rfe_model.cv_results_['mean_test_score']\n",
    "    )\n",
    "\n",
    "    plt.title('rfe accuracy for {}'.format(mod_name))\n",
    "    plt.show()\n",
    "\n"
   ]
  },
  {
   "cell_type": "code",
   "execution_count": 120,
   "metadata": {},
   "outputs": [
    {
     "data": {
      "text/html": [
       "<div>\n",
       "<style scoped>\n",
       "    .dataframe tbody tr th:only-of-type {\n",
       "        vertical-align: middle;\n",
       "    }\n",
       "\n",
       "    .dataframe tbody tr th {\n",
       "        vertical-align: top;\n",
       "    }\n",
       "\n",
       "    .dataframe thead th {\n",
       "        text-align: right;\n",
       "    }\n",
       "</style>\n",
       "<table border=\"1\" class=\"dataframe\">\n",
       "  <thead>\n",
       "    <tr style=\"text-align: right;\">\n",
       "      <th></th>\n",
       "      <th>serving_size</th>\n",
       "      <th>1003</th>\n",
       "      <th>1004</th>\n",
       "      <th>1005</th>\n",
       "      <th>1008</th>\n",
       "      <th>1056</th>\n",
       "      <th>1072</th>\n",
       "      <th>1079</th>\n",
       "      <th>1082</th>\n",
       "      <th>1084</th>\n",
       "      <th>...</th>\n",
       "      <th>brandcol_9</th>\n",
       "      <th>brandcol_11</th>\n",
       "      <th>brandcol_12</th>\n",
       "      <th>brandcol_15</th>\n",
       "      <th>brandcol_29</th>\n",
       "      <th>servingcol_5</th>\n",
       "      <th>servingcol_6</th>\n",
       "      <th>servingcol_8</th>\n",
       "      <th>servingcol_9</th>\n",
       "      <th>servingcol_10</th>\n",
       "    </tr>\n",
       "  </thead>\n",
       "  <tbody>\n",
       "    <tr>\n",
       "      <th>0</th>\n",
       "      <td>0.263506</td>\n",
       "      <td>0.050747</td>\n",
       "      <td>0.136480</td>\n",
       "      <td>0.5167</td>\n",
       "      <td>0.157670</td>\n",
       "      <td>0.0</td>\n",
       "      <td>0.0</td>\n",
       "      <td>0.030357</td>\n",
       "      <td>0.0</td>\n",
       "      <td>0.0</td>\n",
       "      <td>...</td>\n",
       "      <td>0.0</td>\n",
       "      <td>0.0</td>\n",
       "      <td>0.0</td>\n",
       "      <td>1.0</td>\n",
       "      <td>0.0</td>\n",
       "      <td>0.0</td>\n",
       "      <td>0.0</td>\n",
       "      <td>0.0</td>\n",
       "      <td>1.0</td>\n",
       "      <td>0.0</td>\n",
       "    </tr>\n",
       "    <tr>\n",
       "      <th>1</th>\n",
       "      <td>0.250276</td>\n",
       "      <td>0.053490</td>\n",
       "      <td>0.215522</td>\n",
       "      <td>0.3860</td>\n",
       "      <td>0.166193</td>\n",
       "      <td>0.0</td>\n",
       "      <td>0.0</td>\n",
       "      <td>0.032143</td>\n",
       "      <td>0.0</td>\n",
       "      <td>0.0</td>\n",
       "      <td>...</td>\n",
       "      <td>0.0</td>\n",
       "      <td>0.0</td>\n",
       "      <td>0.0</td>\n",
       "      <td>1.0</td>\n",
       "      <td>0.0</td>\n",
       "      <td>0.0</td>\n",
       "      <td>0.0</td>\n",
       "      <td>0.0</td>\n",
       "      <td>1.0</td>\n",
       "      <td>0.0</td>\n",
       "    </tr>\n",
       "    <tr>\n",
       "      <th>2</th>\n",
       "      <td>0.351709</td>\n",
       "      <td>0.057147</td>\n",
       "      <td>0.166377</td>\n",
       "      <td>0.4875</td>\n",
       "      <td>0.165720</td>\n",
       "      <td>0.0</td>\n",
       "      <td>0.0</td>\n",
       "      <td>0.044643</td>\n",
       "      <td>0.0</td>\n",
       "      <td>0.0</td>\n",
       "      <td>...</td>\n",
       "      <td>0.0</td>\n",
       "      <td>0.0</td>\n",
       "      <td>0.0</td>\n",
       "      <td>0.0</td>\n",
       "      <td>0.0</td>\n",
       "      <td>0.0</td>\n",
       "      <td>0.0</td>\n",
       "      <td>0.0</td>\n",
       "      <td>1.0</td>\n",
       "      <td>0.0</td>\n",
       "    </tr>\n",
       "    <tr>\n",
       "      <th>3</th>\n",
       "      <td>0.484013</td>\n",
       "      <td>0.055471</td>\n",
       "      <td>0.297840</td>\n",
       "      <td>0.3727</td>\n",
       "      <td>0.197917</td>\n",
       "      <td>0.0</td>\n",
       "      <td>0.0</td>\n",
       "      <td>0.016071</td>\n",
       "      <td>0.0</td>\n",
       "      <td>0.0</td>\n",
       "      <td>...</td>\n",
       "      <td>0.0</td>\n",
       "      <td>0.0</td>\n",
       "      <td>0.0</td>\n",
       "      <td>1.0</td>\n",
       "      <td>0.0</td>\n",
       "      <td>0.0</td>\n",
       "      <td>0.0</td>\n",
       "      <td>0.0</td>\n",
       "      <td>1.0</td>\n",
       "      <td>0.0</td>\n",
       "    </tr>\n",
       "    <tr>\n",
       "      <th>4</th>\n",
       "      <td>0.550165</td>\n",
       "      <td>0.024383</td>\n",
       "      <td>0.098290</td>\n",
       "      <td>0.3040</td>\n",
       "      <td>0.098485</td>\n",
       "      <td>0.0</td>\n",
       "      <td>0.0</td>\n",
       "      <td>0.028571</td>\n",
       "      <td>0.0</td>\n",
       "      <td>0.0</td>\n",
       "      <td>...</td>\n",
       "      <td>0.0</td>\n",
       "      <td>0.0</td>\n",
       "      <td>0.0</td>\n",
       "      <td>0.0</td>\n",
       "      <td>0.0</td>\n",
       "      <td>0.0</td>\n",
       "      <td>0.0</td>\n",
       "      <td>0.0</td>\n",
       "      <td>1.0</td>\n",
       "      <td>0.0</td>\n",
       "    </tr>\n",
       "  </tbody>\n",
       "</table>\n",
       "<p>5 rows × 54 columns</p>\n",
       "</div>"
      ],
      "text/plain": [
       "   serving_size      1003      1004    1005      1008  1056  1072      1079  \\\n",
       "0      0.263506  0.050747  0.136480  0.5167  0.157670   0.0   0.0  0.030357   \n",
       "1      0.250276  0.053490  0.215522  0.3860  0.166193   0.0   0.0  0.032143   \n",
       "2      0.351709  0.057147  0.166377  0.4875  0.165720   0.0   0.0  0.044643   \n",
       "3      0.484013  0.055471  0.297840  0.3727  0.197917   0.0   0.0  0.016071   \n",
       "4      0.550165  0.024383  0.098290  0.3040  0.098485   0.0   0.0  0.028571   \n",
       "\n",
       "   1082  1084  ...  brandcol_9  brandcol_11  brandcol_12  brandcol_15  \\\n",
       "0   0.0   0.0  ...         0.0          0.0          0.0          1.0   \n",
       "1   0.0   0.0  ...         0.0          0.0          0.0          1.0   \n",
       "2   0.0   0.0  ...         0.0          0.0          0.0          0.0   \n",
       "3   0.0   0.0  ...         0.0          0.0          0.0          1.0   \n",
       "4   0.0   0.0  ...         0.0          0.0          0.0          0.0   \n",
       "\n",
       "   brandcol_29  servingcol_5  servingcol_6  servingcol_8  servingcol_9  \\\n",
       "0          0.0           0.0           0.0           0.0           1.0   \n",
       "1          0.0           0.0           0.0           0.0           1.0   \n",
       "2          0.0           0.0           0.0           0.0           1.0   \n",
       "3          0.0           0.0           0.0           0.0           1.0   \n",
       "4          0.0           0.0           0.0           0.0           1.0   \n",
       "\n",
       "   servingcol_10  \n",
       "0            0.0  \n",
       "1            0.0  \n",
       "2            0.0  \n",
       "3            0.0  \n",
       "4            0.0  \n",
       "\n",
       "[5 rows x 54 columns]"
      ]
     },
     "execution_count": 120,
     "metadata": {},
     "output_type": "execute_result"
    }
   ],
   "source": [
    "X_var_selection6.head()"
   ]
  },
  {
   "cell_type": "code",
   "execution_count": 121,
   "metadata": {},
   "outputs": [],
   "source": [
    "# create models\n",
    "ada = AdaBoostClassifier(random_state= 1)\n",
    "sgd = SGDClassifier(random_state = 1)\n",
    "tree_class = ExtraTreesClassifier(random_state= 1)\n",
    "lrs = LogisticRegression(random_state= 1, multi_class='ovr')\n",
    "svm = LinearSVC(random_state = 1)"
   ]
  },
  {
   "cell_type": "code",
   "execution_count": 122,
   "metadata": {},
   "outputs": [
    {
     "name": "stdout",
     "output_type": "stream",
     "text": [
      "Optimal number of features : 46\n"
     ]
    },
    {
     "data": {
      "image/png": "[encoded data removed]",
      "text/plain": [
       "<Figure size 432x288 with 1 Axes>"
      ]
     },
     "metadata": {
      "needs_background": "light"
     },
     "output_type": "display_data"
    }
   ],
   "source": [
    "rfe, selected_features1 = feat_select(rf,X_var_selection6, y_var_selection2)\n",
    "plot_results(rfe,'random forest')"
   ]
  },
  {
   "cell_type": "code",
   "execution_count": 123,
   "metadata": {},
   "outputs": [
    {
     "name": "stdout",
     "output_type": "stream",
     "text": [
      "Optimal number of features : 16\n"
     ]
    },
    {
     "data": {
      "image/png": "[encoded data removed]",
      "text/plain": [
       "<Figure size 432x288 with 1 Axes>"
      ]
     },
     "metadata": {
      "needs_background": "light"
     },
     "output_type": "display_data"
    }
   ],
   "source": [
    "rfe, selected_features2 = feat_select(ada,X_var_selection6, y_var_selection2)\n",
    "plot_results(rfe,'ADAboost')"
   ]
  },
  {
   "cell_type": "code",
   "execution_count": 124,
   "metadata": {},
   "outputs": [
    {
     "name": "stdout",
     "output_type": "stream",
     "text": [
      "Optimal number of features : 32\n"
     ]
    },
    {
     "data": {
      "image/png": "[encoded data removed]",
      "text/plain": [
       "<Figure size 432x288 with 1 Axes>"
      ]
     },
     "metadata": {
      "needs_background": "light"
     },
     "output_type": "display_data"
    }
   ],
   "source": [
    "rfe, selected_features3 = feat_select(sgd,X_var_selection6, y_var_selection2)\n",
    "plot_results(rfe,'linear model with stochastic gradiant decent')"
   ]
  },
  {
   "cell_type": "code",
   "execution_count": 125,
   "metadata": {},
   "outputs": [
    {
     "name": "stdout",
     "output_type": "stream",
     "text": [
      "Optimal number of features : 33\n"
     ]
    },
    {
     "data": {
      "image/png": "[encoded data removed]",
      "text/plain": [
       "<Figure size 432x288 with 1 Axes>"
      ]
     },
     "metadata": {
      "needs_background": "light"
     },
     "output_type": "display_data"
    }
   ],
   "source": [
    "rfe, selected_features4= feat_select(lrs,X_var_selection6, y_var_selection2)\n",
    "plot_results(rfe,'logistic_regression')"
   ]
  },
  {
   "cell_type": "code",
   "execution_count": 126,
   "metadata": {},
   "outputs": [
    {
     "name": "stdout",
     "output_type": "stream",
     "text": [
      "Optimal number of features : 43\n"
     ]
    },
    {
     "data": {
      "image/png": "[encoded data removed]",
      "text/plain": [
       "<Figure size 432x288 with 1 Axes>"
      ]
     },
     "metadata": {
      "needs_background": "light"
     },
     "output_type": "display_data"
    }
   ],
   "source": [
    "rfe, selected_features5 = feat_select(svm,X_var_selection6, y_var_selection2)\n",
    "plot_results(rfe,'svm')"
   ]
  },
  {
   "cell_type": "code",
   "execution_count": 127,
   "metadata": {},
   "outputs": [
    {
     "name": "stdout",
     "output_type": "stream",
     "text": [
      "Optimal number of features : 42\n"
     ]
    },
    {
     "data": {
      "image/png": "[encoded data removed]",
      "text/plain": [
       "<Figure size 432x288 with 1 Axes>"
      ]
     },
     "metadata": {
      "needs_background": "light"
     },
     "output_type": "display_data"
    }
   ],
   "source": [
    "rfe, selected_features6 = feat_select(tree_class,X_var_selection6, y_var_selection2)\n",
    "plot_results(rfe,'tree')"
   ]
  },
  {
   "cell_type": "markdown",
   "metadata": {},
   "source": [
    "\n",
    "model = ExtraTreesClassifier()\n",
    "model.fit(X_var_selection3,y_var_selection2)\n",
    "feat_importances = pd.Series(model.feature_importances_, index=X_var_selection3.columns)\n",
    "feat_importances.nlargest(18).plot(kind='barh')\n",
    "plt.show()"
   ]
  },
  {
   "cell_type": "markdown",
   "metadata": {},
   "source": [
    "feat_importances.nlargest(18)"
   ]
  },
  {
   "cell_type": "markdown",
   "metadata": {},
   "source": [
    "model = ExtraTreesClassifier()\n",
    "rf.fit(X_var_selection3,y_var_selection2)\n",
    "feat_importances = pd.Series(rf.feature_importances_, index=X_var_selection3.columns)\n",
    "feat_importances.nlargest(18).plot(kind='barh')\n",
    "plt.show()"
   ]
  },
  {
   "cell_type": "markdown",
   "metadata": {},
   "source": [
    "\n",
    "import matplotlib.pyplot as plt\n",
    "lgbm = HistGradientBoostingClassifier(random_state= 7, categorical_features= [44,45,46,48,49,54])\n",
    "lgbm_fitted =lgbm.fit(X_var_selection3,y_var_selection2)\n",
    "result = permutation_importance(lgbm_fitted, X_var_selection3, y_var_selection2, n_repeats= 5, random_state= 1)\n",
    "feat_importances = pd.Series(result.importances_mean, index=X_var_selection3.columns)\n",
    "feat_importances.nlargest(18).plot(kind='barh')\n",
    "plt.title('lightGBM model feature importance')\n",
    "plt.show()"
   ]
  },
  {
   "cell_type": "code",
   "execution_count": 128,
   "metadata": {},
   "outputs": [
    {
     "name": "stdout",
     "output_type": "stream",
     "text": [
      "{'serving_size': 6, '1004': 6, '1005': 6, '1008': 6, '1079': 6, '1086': 6, '1087': 6, '1162': 6, '1258': 6, '2000': 6, 'brandcol_2': 6, 'brandcol_7': 6, '1003': 5, '1090': 5, '1092': 5, '1095': 5, '1104': 5, '1235': 5, '1257': 5, '1292': 5, '1293': 5, 'brandcol_9': 5, 'brandcol_11': 5, 'brandcol_12': 5, 'brandcol_15': 5, 'brandcol_29': 5, 'servingcol_5': 5, 'servingcol_6': 5, 'servingcol_8': 5, 'servingcol_10': 5, '1089': 4, '1093': 4, '1098': 4, '1101': 4, '1175': 4, 'servingcol_9': 4, '1091': 3, '1166': 3, '1167': 3, '1253': 3, '1056': 2, '1084': 2, '1165': 2, '1177': 2, '1072': 1, '1082': 1, '1103': 1, '1109': 1, '1158': 1, '1185': 1}\n"
     ]
    }
   ],
   "source": [
    "from collections import Counter\n",
    "d = [selected_features1,selected_features2, selected_features3, selected_features4, selected_features5, selected_features6]\n",
    "counter = Counter(x for sublist in d for x in sublist)\n",
    "sorted_dict = {}\n",
    "sorted_keys = sorted(counter, key=counter.get, reverse= True)  # [1, 3, 2]\n",
    "\n",
    "for w in sorted_keys:\n",
    "    sorted_dict[w] = counter[w]\n",
    "# We will use the predictors that were used in 4 mmodels and above\n",
    "print(sorted_dict) # {1: 1, 3: \n",
    "selected_feats_final = [k for k, v in counter.items() if v >= 5]\n",
    "#unique, counts = np.unique(d, return_counts=True)\n",
    "\n",
    "#dict(zip(unique, counts))"
   ]
  },
  {
   "cell_type": "code",
   "execution_count": 129,
   "metadata": {},
   "outputs": [
    {
     "data": {
      "text/plain": [
       "30"
      ]
     },
     "execution_count": 129,
     "metadata": {},
     "output_type": "execute_result"
    }
   ],
   "source": [
    "selected_feats_final = np.array(selected_feats_final, dtype=\"str\")\n",
    "len(selected_feats_final)"
   ]
  },
  {
   "cell_type": "code",
   "execution_count": 130,
   "metadata": {},
   "outputs": [
    {
     "data": {
      "text/html": [
       "<div>\n",
       "<style scoped>\n",
       "    .dataframe tbody tr th:only-of-type {\n",
       "        vertical-align: middle;\n",
       "    }\n",
       "\n",
       "    .dataframe tbody tr th {\n",
       "        vertical-align: top;\n",
       "    }\n",
       "\n",
       "    .dataframe thead th {\n",
       "        text-align: right;\n",
       "    }\n",
       "</style>\n",
       "<table border=\"1\" class=\"dataframe\">\n",
       "  <thead>\n",
       "    <tr style=\"text-align: right;\">\n",
       "      <th></th>\n",
       "      <th>serving_size</th>\n",
       "      <th>1003</th>\n",
       "      <th>1004</th>\n",
       "      <th>1005</th>\n",
       "      <th>1008</th>\n",
       "      <th>1079</th>\n",
       "      <th>1086</th>\n",
       "      <th>1087</th>\n",
       "      <th>1090</th>\n",
       "      <th>1092</th>\n",
       "      <th>...</th>\n",
       "      <th>brandcol_7</th>\n",
       "      <th>brandcol_9</th>\n",
       "      <th>brandcol_11</th>\n",
       "      <th>brandcol_12</th>\n",
       "      <th>brandcol_15</th>\n",
       "      <th>brandcol_29</th>\n",
       "      <th>servingcol_5</th>\n",
       "      <th>servingcol_6</th>\n",
       "      <th>servingcol_8</th>\n",
       "      <th>servingcol_10</th>\n",
       "    </tr>\n",
       "  </thead>\n",
       "  <tbody>\n",
       "    <tr>\n",
       "      <th>16113</th>\n",
       "      <td>28.0</td>\n",
       "      <td>7.14</td>\n",
       "      <td>28.57</td>\n",
       "      <td>60.71</td>\n",
       "      <td>500.0</td>\n",
       "      <td>3.6</td>\n",
       "      <td>0.0</td>\n",
       "      <td>71.0</td>\n",
       "      <td>0.0</td>\n",
       "      <td>0.0</td>\n",
       "      <td>...</td>\n",
       "      <td>False</td>\n",
       "      <td>False</td>\n",
       "      <td>False</td>\n",
       "      <td>False</td>\n",
       "      <td>True</td>\n",
       "      <td>False</td>\n",
       "      <td>False</td>\n",
       "      <td>False</td>\n",
       "      <td>False</td>\n",
       "      <td>False</td>\n",
       "    </tr>\n",
       "    <tr>\n",
       "      <th>8805</th>\n",
       "      <td>28.0</td>\n",
       "      <td>7.14</td>\n",
       "      <td>21.43</td>\n",
       "      <td>64.29</td>\n",
       "      <td>464.0</td>\n",
       "      <td>7.1</td>\n",
       "      <td>0.0</td>\n",
       "      <td>143.0</td>\n",
       "      <td>0.0</td>\n",
       "      <td>0.0</td>\n",
       "      <td>...</td>\n",
       "      <td>False</td>\n",
       "      <td>False</td>\n",
       "      <td>False</td>\n",
       "      <td>False</td>\n",
       "      <td>True</td>\n",
       "      <td>False</td>\n",
       "      <td>False</td>\n",
       "      <td>False</td>\n",
       "      <td>False</td>\n",
       "      <td>False</td>\n",
       "    </tr>\n",
       "    <tr>\n",
       "      <th>22135</th>\n",
       "      <td>41.0</td>\n",
       "      <td>0.00</td>\n",
       "      <td>0.00</td>\n",
       "      <td>82.93</td>\n",
       "      <td>341.0</td>\n",
       "      <td>0.0</td>\n",
       "      <td>0.0</td>\n",
       "      <td>0.0</td>\n",
       "      <td>0.0</td>\n",
       "      <td>0.0</td>\n",
       "      <td>...</td>\n",
       "      <td>False</td>\n",
       "      <td>False</td>\n",
       "      <td>False</td>\n",
       "      <td>False</td>\n",
       "      <td>True</td>\n",
       "      <td>False</td>\n",
       "      <td>False</td>\n",
       "      <td>False</td>\n",
       "      <td>False</td>\n",
       "      <td>False</td>\n",
       "    </tr>\n",
       "    <tr>\n",
       "      <th>25559</th>\n",
       "      <td>25.0</td>\n",
       "      <td>4.00</td>\n",
       "      <td>20.00</td>\n",
       "      <td>72.00</td>\n",
       "      <td>480.0</td>\n",
       "      <td>4.0</td>\n",
       "      <td>0.0</td>\n",
       "      <td>0.0</td>\n",
       "      <td>0.0</td>\n",
       "      <td>140.0</td>\n",
       "      <td>...</td>\n",
       "      <td>False</td>\n",
       "      <td>False</td>\n",
       "      <td>False</td>\n",
       "      <td>False</td>\n",
       "      <td>True</td>\n",
       "      <td>False</td>\n",
       "      <td>False</td>\n",
       "      <td>False</td>\n",
       "      <td>False</td>\n",
       "      <td>False</td>\n",
       "    </tr>\n",
       "    <tr>\n",
       "      <th>21079</th>\n",
       "      <td>40.0</td>\n",
       "      <td>5.00</td>\n",
       "      <td>42.50</td>\n",
       "      <td>50.00</td>\n",
       "      <td>525.0</td>\n",
       "      <td>12.5</td>\n",
       "      <td>0.0</td>\n",
       "      <td>50.0</td>\n",
       "      <td>0.0</td>\n",
       "      <td>0.0</td>\n",
       "      <td>...</td>\n",
       "      <td>False</td>\n",
       "      <td>False</td>\n",
       "      <td>False</td>\n",
       "      <td>False</td>\n",
       "      <td>True</td>\n",
       "      <td>False</td>\n",
       "      <td>False</td>\n",
       "      <td>False</td>\n",
       "      <td>False</td>\n",
       "      <td>False</td>\n",
       "    </tr>\n",
       "    <tr>\n",
       "      <th>...</th>\n",
       "      <td>...</td>\n",
       "      <td>...</td>\n",
       "      <td>...</td>\n",
       "      <td>...</td>\n",
       "      <td>...</td>\n",
       "      <td>...</td>\n",
       "      <td>...</td>\n",
       "      <td>...</td>\n",
       "      <td>...</td>\n",
       "      <td>...</td>\n",
       "      <td>...</td>\n",
       "      <td>...</td>\n",
       "      <td>...</td>\n",
       "      <td>...</td>\n",
       "      <td>...</td>\n",
       "      <td>...</td>\n",
       "      <td>...</td>\n",
       "      <td>...</td>\n",
       "      <td>...</td>\n",
       "      <td>...</td>\n",
       "      <td>...</td>\n",
       "    </tr>\n",
       "    <tr>\n",
       "      <th>6331</th>\n",
       "      <td>30.0</td>\n",
       "      <td>3.33</td>\n",
       "      <td>13.33</td>\n",
       "      <td>70.00</td>\n",
       "      <td>433.0</td>\n",
       "      <td>0.0</td>\n",
       "      <td>0.0</td>\n",
       "      <td>0.0</td>\n",
       "      <td>0.0</td>\n",
       "      <td>0.0</td>\n",
       "      <td>...</td>\n",
       "      <td>False</td>\n",
       "      <td>False</td>\n",
       "      <td>False</td>\n",
       "      <td>False</td>\n",
       "      <td>True</td>\n",
       "      <td>False</td>\n",
       "      <td>False</td>\n",
       "      <td>False</td>\n",
       "      <td>False</td>\n",
       "      <td>False</td>\n",
       "    </tr>\n",
       "    <tr>\n",
       "      <th>10112</th>\n",
       "      <td>30.0</td>\n",
       "      <td>20.00</td>\n",
       "      <td>53.33</td>\n",
       "      <td>16.67</td>\n",
       "      <td>600.0</td>\n",
       "      <td>10.0</td>\n",
       "      <td>0.0</td>\n",
       "      <td>267.0</td>\n",
       "      <td>0.0</td>\n",
       "      <td>0.0</td>\n",
       "      <td>...</td>\n",
       "      <td>False</td>\n",
       "      <td>False</td>\n",
       "      <td>False</td>\n",
       "      <td>False</td>\n",
       "      <td>True</td>\n",
       "      <td>False</td>\n",
       "      <td>False</td>\n",
       "      <td>False</td>\n",
       "      <td>False</td>\n",
       "      <td>False</td>\n",
       "    </tr>\n",
       "    <tr>\n",
       "      <th>2664</th>\n",
       "      <td>28.0</td>\n",
       "      <td>7.14</td>\n",
       "      <td>46.43</td>\n",
       "      <td>35.71</td>\n",
       "      <td>607.0</td>\n",
       "      <td>7.1</td>\n",
       "      <td>0.0</td>\n",
       "      <td>143.0</td>\n",
       "      <td>0.0</td>\n",
       "      <td>0.0</td>\n",
       "      <td>...</td>\n",
       "      <td>False</td>\n",
       "      <td>False</td>\n",
       "      <td>False</td>\n",
       "      <td>False</td>\n",
       "      <td>True</td>\n",
       "      <td>False</td>\n",
       "      <td>False</td>\n",
       "      <td>False</td>\n",
       "      <td>False</td>\n",
       "      <td>False</td>\n",
       "    </tr>\n",
       "    <tr>\n",
       "      <th>24438</th>\n",
       "      <td>31.0</td>\n",
       "      <td>6.45</td>\n",
       "      <td>29.03</td>\n",
       "      <td>61.29</td>\n",
       "      <td>516.0</td>\n",
       "      <td>0.0</td>\n",
       "      <td>0.0</td>\n",
       "      <td>0.0</td>\n",
       "      <td>0.0</td>\n",
       "      <td>0.0</td>\n",
       "      <td>...</td>\n",
       "      <td>False</td>\n",
       "      <td>False</td>\n",
       "      <td>False</td>\n",
       "      <td>False</td>\n",
       "      <td>True</td>\n",
       "      <td>False</td>\n",
       "      <td>False</td>\n",
       "      <td>False</td>\n",
       "      <td>False</td>\n",
       "      <td>False</td>\n",
       "    </tr>\n",
       "    <tr>\n",
       "      <th>12495</th>\n",
       "      <td>28.0</td>\n",
       "      <td>3.57</td>\n",
       "      <td>28.57</td>\n",
       "      <td>64.29</td>\n",
       "      <td>536.0</td>\n",
       "      <td>7.1</td>\n",
       "      <td>0.0</td>\n",
       "      <td>0.0</td>\n",
       "      <td>0.0</td>\n",
       "      <td>0.0</td>\n",
       "      <td>...</td>\n",
       "      <td>False</td>\n",
       "      <td>False</td>\n",
       "      <td>False</td>\n",
       "      <td>True</td>\n",
       "      <td>False</td>\n",
       "      <td>False</td>\n",
       "      <td>False</td>\n",
       "      <td>False</td>\n",
       "      <td>False</td>\n",
       "      <td>False</td>\n",
       "    </tr>\n",
       "  </tbody>\n",
       "</table>\n",
       "<p>6349 rows × 30 columns</p>\n",
       "</div>"
      ],
      "text/plain": [
       "       serving_size   1003   1004   1005   1008  1079  1086   1087  1090  \\\n",
       "16113          28.0   7.14  28.57  60.71  500.0   3.6   0.0   71.0   0.0   \n",
       "8805           28.0   7.14  21.43  64.29  464.0   7.1   0.0  143.0   0.0   \n",
       "22135          41.0   0.00   0.00  82.93  341.0   0.0   0.0    0.0   0.0   \n",
       "25559          25.0   4.00  20.00  72.00  480.0   4.0   0.0    0.0   0.0   \n",
       "21079          40.0   5.00  42.50  50.00  525.0  12.5   0.0   50.0   0.0   \n",
       "...             ...    ...    ...    ...    ...   ...   ...    ...   ...   \n",
       "6331           30.0   3.33  13.33  70.00  433.0   0.0   0.0    0.0   0.0   \n",
       "10112          30.0  20.00  53.33  16.67  600.0  10.0   0.0  267.0   0.0   \n",
       "2664           28.0   7.14  46.43  35.71  607.0   7.1   0.0  143.0   0.0   \n",
       "24438          31.0   6.45  29.03  61.29  516.0   0.0   0.0    0.0   0.0   \n",
       "12495          28.0   3.57  28.57  64.29  536.0   7.1   0.0    0.0   0.0   \n",
       "\n",
       "        1092  ...  brandcol_7  brandcol_9  brandcol_11  brandcol_12  \\\n",
       "16113    0.0  ...       False       False        False        False   \n",
       "8805     0.0  ...       False       False        False        False   \n",
       "22135    0.0  ...       False       False        False        False   \n",
       "25559  140.0  ...       False       False        False        False   \n",
       "21079    0.0  ...       False       False        False        False   \n",
       "...      ...  ...         ...         ...          ...          ...   \n",
       "6331     0.0  ...       False       False        False        False   \n",
       "10112    0.0  ...       False       False        False        False   \n",
       "2664     0.0  ...       False       False        False        False   \n",
       "24438    0.0  ...       False       False        False        False   \n",
       "12495    0.0  ...       False       False        False         True   \n",
       "\n",
       "       brandcol_15  brandcol_29  servingcol_5  servingcol_6  servingcol_8  \\\n",
       "16113         True        False         False         False         False   \n",
       "8805          True        False         False         False         False   \n",
       "22135         True        False         False         False         False   \n",
       "25559         True        False         False         False         False   \n",
       "21079         True        False         False         False         False   \n",
       "...            ...          ...           ...           ...           ...   \n",
       "6331          True        False         False         False         False   \n",
       "10112         True        False         False         False         False   \n",
       "2664          True        False         False         False         False   \n",
       "24438         True        False         False         False         False   \n",
       "12495        False        False         False         False         False   \n",
       "\n",
       "       servingcol_10  \n",
       "16113          False  \n",
       "8805           False  \n",
       "22135          False  \n",
       "25559          False  \n",
       "21079          False  \n",
       "...              ...  \n",
       "6331           False  \n",
       "10112          False  \n",
       "2664           False  \n",
       "24438          False  \n",
       "12495          False  \n",
       "\n",
       "[6349 rows x 30 columns]"
      ]
     },
     "execution_count": 130,
     "metadata": {},
     "output_type": "execute_result"
    }
   ],
   "source": [
    "X_var_selection4.loc[:,selected_feats_final]"
   ]
  },
  {
   "cell_type": "code",
   "execution_count": 134,
   "metadata": {},
   "outputs": [
    {
     "data": {
      "text/plain": [
       "array(['serving_size', '1003', '1004', '1005', '1008', '1079', '1086',\n",
       "       '1087', '1090', '1092', '1095', '1104', '1162', '1235', '1257',\n",
       "       '1258', '1292', '1293', '2000', 'brandcol_2', 'brandcol_7',\n",
       "       'brandcol_9', 'brandcol_11', 'brandcol_12', 'brandcol_15',\n",
       "       'brandcol_29', 'servingcol_5', 'servingcol_6', 'servingcol_8',\n",
       "       'servingcol_10'], dtype='<U13')"
      ]
     },
     "execution_count": 134,
     "metadata": {},
     "output_type": "execute_result"
    }
   ],
   "source": [
    "selected_feats_final"
   ]
  },
  {
   "cell_type": "markdown",
   "metadata": {},
   "source": [
    "# model selection and tuning"
   ]
  },
  {
   "cell_type": "code",
   "execution_count": 132,
   "metadata": {},
   "outputs": [],
   "source": [
    "X_mod_slct2 = X_mod_slct.copy()\n",
    "X_mod_slct2 = X_mod_slct2.assign(brand = ['other_brand' if item not in unique_brand_list else item for item in X_mod_slct2['brand']],\n",
    "                     servings = ['other_serving' if item not in unique_serv_list else item for item in X_mod_slct2['servings']])\n",
    "hashed_brand = encoder30.fit_transform(X_mod_slct2.brand)\n",
    "hashed_serv =  encoder15.fit_transform(X_mod_slct2.servings)\n",
    "\n",
    "hashed_brand = pd.DataFrame(hashed_brand).add_prefix('brand')\n",
    "hashed_serv = pd.DataFrame(hashed_serv).add_prefix('serving')\n",
    "\n",
    "# adding same index to prevent NAN's\n",
    "hashed_serv.index = X_mod_slct2.index\n",
    "hashed_brand.index = X_mod_slct2.index\n",
    "X_mod_slct2 = pd.concat([X_mod_slct2,hashed_serv], axis = 1)\n",
    "X_mod_slct2 = pd.concat([X_mod_slct2,hashed_brand], axis = 1)\n",
    "X_mod_slct2 = X_mod_slct2.drop(['brand',\"servings\",\"category\", \"Unnamed: 0\",'idx'], axis = 1)\n",
    "\n",
    "cl = X_mod_slct2.columns.get_loc('2033') + 1\n",
    "X_mod_slct2.iloc[ :,:cl] = X_mod_slct2.iloc[ :,:cl].astype('float64')\n",
    "X_mod_slct2.iloc[ :,cl:] = X_mod_slct2.iloc[ :,cl:].astype('bool')\n",
    "X_mod_slct2 =  X_mod_slct2.loc[:,selected_feats_final]\n",
    "\n",
    "# droping the zero var columns \n",
    "vt = VarianceThreshold()\n",
    "_ = vt.fit(X_mod_slct2)\n",
    "mask = vt.get_support()\n",
    "X_mod_slct3 = X_mod_slct2.loc[:, mask]\n",
    "\n",
    "# determine categorical and numerical features that's left\n",
    "numerical_ix = X_mod_slct3.select_dtypes(include=['float64']).columns\n",
    "categorical_ix = X_mod_slct3.select_dtypes(include=[ 'bool']).columns\n",
    "\n",
    "# transforming with min max\n",
    "t = [ ('scale', MinMaxScaler(),numerical_ix)]\n",
    "ct = ColumnTransformer(transformers=t, remainder='passthrough')\n",
    "X_trans = ct.fit_transform(X_mod_slct3)  \n",
    "X_mod_slct4 = pd.DataFrame(X_trans, index=X_mod_slct3.index, columns=X_mod_slct3.columns)\n",
    "\n",
    "# define pipeline\n",
    "over = SMOTE(sampling_strategy='all')\n",
    "under = RandomUnderSampler(sampling_strategy='all')\n",
    "steps = [('u', under),('o', over)]\n",
    "pipeline = Pipeline(steps=steps)\n",
    "\n",
    "# transform the dataset\n",
    "X_mod_slct5, y_mod_slct2 = pipeline.fit_resample(X_mod_slct4, y_mod_slct)"
   ]
  },
  {
   "cell_type": "code",
   "execution_count": null,
   "metadata": {},
   "outputs": [],
   "source": [
    "from sklearn.naive_bayes import MultinomialNB\n",
    "\n",
    "# create models\n",
    "ada = AdaBoostClassifier(random_state= 1)\n",
    "sgd = SGDClassifier(random_state = 1)\n",
    "tree_class = ExtraTreesClassifier(random_state= 1, criterion ='entropy')\n",
    "lrs = LogisticRegression(random_state= 1, multi_class='ovr')\n",
    "svm = LinearSVC(random_state = 1)\n",
    "mnb = MultinomialNB()"
   ]
  },
  {
   "cell_type": "code",
   "execution_count": null,
   "metadata": {},
   "outputs": [],
   "source": [
    "# Initiaze the hyperparameters for each dictionary\n",
    "param1 = {}\n",
    "param1['classifier'] = [rf]\n",
    "\n",
    "param2 = {}\n",
    "param2['classifier'] = [ada]\n",
    "\n",
    "param3 = {}\n",
    "param3['classifier'] = [tree_class]\n",
    "\n",
    "param4 = {}\n",
    "param4['classifier'] = [mnb]\n",
    "\n",
    "param5 = {}\n",
    "param5['classifier'] = [svm]\n"
   ]
  },
  {
   "cell_type": "code",
   "execution_count": null,
   "metadata": {},
   "outputs": [
    {
     "name": "stdout",
     "output_type": "stream",
     "text": [
      "{'classifier': ExtraTreesClassifier(criterion='entropy', random_state=1)}\n",
      "0.8815670289855072\n"
     ]
    }
   ],
   "source": [
    "from sklearn.model_selection import GridSearchCV, RandomizedSearchCV\n",
    "pipeline = Pipeline([('classifier', rf)])\n",
    "params = [param1, param2, param3, param4, param5]\n",
    "# Train the grid search model\n",
    "gs = GridSearchCV(pipeline, params, cv=3, n_jobs=-1, scoring='accuracy')\n",
    "gs_results = gs.fit(X_mod_slct5, y_mod_slct2)\n",
    "\n",
    "# Best performing model and its corresponding hyperparameters\n",
    "print(gs.best_params_)\n",
    "print(gs.best_score_)\n"
   ]
  },
  {
   "cell_type": "code",
   "execution_count": null,
   "metadata": {},
   "outputs": [
    {
     "name": "stderr",
     "output_type": "stream",
     "text": [
      "/home/dovikde/.local/lib/python3.10/site-packages/sklearn/model_selection/_search.py:292: UserWarning: The total space of parameters 5 is smaller than n_iter=10. Running 5 iterations. For exhaustive searches, use GridSearchCV.\n",
      "  warnings.warn(\n"
     ]
    }
   ],
   "source": [
    "rs = RandomizedSearchCV(pipeline, params, cv=3, n_jobs=-1, scoring='accuracy').fit(X_mod_slct5, y_mod_slct2)\n"
   ]
  },
  {
   "cell_type": "code",
   "execution_count": null,
   "metadata": {},
   "outputs": [
    {
     "data": {
      "text/plain": [
       "0.8822463768115942"
      ]
     },
     "execution_count": 261,
     "metadata": {},
     "output_type": "execute_result"
    }
   ],
   "source": [
    "rs.best_score_"
   ]
  },
  {
   "cell_type": "markdown",
   "metadata": {},
   "source": [
    "# model Tuning"
   ]
  },
  {
   "cell_type": "code",
   "execution_count": null,
   "metadata": {},
   "outputs": [],
   "source": [
    "X_mod_tune2 = X_mod_tune.copy()\n",
    "X_mod_tune2 = X_mod_tune2.assign(brand = ['other_brand' if item not in unique_brand_list else item for item in X_mod_tune2['brand']],\n",
    "                     servings = ['other_serving' if item not in unique_serv_list else item for item in X_mod_tune2['servings']])\n",
    "hashed_brand = encoder30.fit_transform(X_mod_tune2.brand)\n",
    "hashed_serv =  encoder15.fit_transform(X_mod_tune2.servings)\n",
    "\n",
    "hashed_brand = pd.DataFrame(hashed_brand).add_prefix('brand')c\n",
    "hashed_serv = pd.DataFrame(hashed_serv).add_prefix('serving')\n",
    "\n",
    "# adding same index to prevent NAN's\n",
    "hashed_serv.index = X_mod_tune2.index\n",
    "hashed_brand.index = X_mod_tune2.index\n",
    "X_mod_tune2 = pd.concat([X_mod_tune2,hashed_serv], axis = 1)\n",
    "X_mod_tune2 = pd.concat([X_mod_tune2,hashed_brand], axis = 1)\n",
    "X_mod_tune2 = X_mod_tune2.drop(['brand',\"servings\",\"category\", \"Unnamed: 0\",'idx'], axis = 1)\n",
    "\n",
    "cl = X_mod_tune2.columns.get_loc('2033') + 1\n",
    "X_mod_tune2.iloc[ :,:cl] = X_mod_tune2.iloc[ :,:cl].astype('float64')\n",
    "X_mod_tune2.iloc[ :,cl:] = X_mod_tune2.iloc[ :,cl:].astype('bool')\n",
    "X_mod_tune2 =  X_mod_tune2.loc[:,selected_feats_final]\n",
    "\n",
    "# droping the zero var columns \n",
    "vt = VarianceThreshold()\n",
    "_ = vt.fit(X_mod_tune2)\n",
    "mask = vt.get_support()\n",
    "X_mod_tune2 = X_mod_tune2.loc[:, mask]\n",
    "\n",
    "# determine categorical and numerical features that's left\n",
    "numerical_ix = X_mod_tune2.select_dtypes(include=['float64']).columns\n",
    "categorical_ix = X_mod_tune2.select_dtypes(include=[ 'bool']).columns\n",
    "\n",
    "# transforming with min max\n",
    "t = [ ('scale', MinMaxScaler(),numerical_ix)]\n",
    "ct = ColumnTransformer(transformers=t, remainder='passthrough')\n",
    "X_trans = ct.fit_transform(X_mod_tune2)  \n",
    "X_mod_tune2 = pd.DataFrame(X_trans, index=X_mod_tune2.index, columns=X_mod_tune2.columns)\n",
    "\n",
    "# define pipeline\n",
    "over = SMOTE(sampling_strategy='all')\n",
    "under = RandomUnderSampler(sampling_strategy='all')\n",
    "steps = [('u', under),('o', over)]\n",
    "pipeline = Pipeline(steps=steps)\n",
    "\n",
    "# transform the dataset\n",
    "X_mod_tune2, y_mod_tune2 = pipeline.fit_resample(X_mod_tune2, y_mod_tune)"
   ]
  },
  {
   "cell_type": "code",
   "execution_count": null,
   "metadata": {},
   "outputs": [],
   "source": [
    "params = [{'n_estimators': [50,100,150,250, 500],\n",
    "    'max_depth': [None, 5, 10, 25],\n",
    "    'min_samples_split': [2,5,10],\n",
    "    'min_samples_leaf': [1,2,5,10],\n",
    "    'max_leaf_nodes':[5,10,25,None]\n",
    "    }]"
   ]
  },
  {
   "cell_type": "code",
   "execution_count": null,
   "metadata": {},
   "outputs": [
    {
     "data": {
      "text/plain": [
       "GridSearchCV(cv=3,\n",
       "             estimator=ExtraTreesClassifier(criterion='entropy',\n",
       "                                            random_state=1),\n",
       "             n_jobs=-1,\n",
       "             param_grid=[{'max_depth': [None, 5, 10, 25],\n",
       "                          'max_leaf_nodes': [5, 10, 25, None],\n",
       "                          'min_samples_leaf': [1, 2, 5, 10],\n",
       "                          'min_samples_split': [2, 5, 10],\n",
       "                          'n_estimators': [50, 100, 150, 250, 500]}],\n",
       "             scoring='accuracy')"
      ]
     },
     "execution_count": 301,
     "metadata": {},
     "output_type": "execute_result"
    }
   ],
   "source": [
    "pipeline = Pipeline([('tree',  ExtraTreesClassifier(random_state= 1, criterion ='entropy'))])\n",
    "grid = GridSearchCV(ExtraTreesClassifier(random_state= 1, criterion ='entropy'), params, cv=3, n_jobs=-1, scoring='accuracy')\n",
    "grid.fit(X_mod_tune2, y_mod_tune2)"
   ]
  },
  {
   "cell_type": "code",
   "execution_count": null,
   "metadata": {},
   "outputs": [
    {
     "name": "stdout",
     "output_type": "stream",
     "text": [
      "{'max_depth': None, 'max_leaf_nodes': None, 'min_samples_leaf': 1, 'min_samples_split': 5, 'n_estimators': 250}\n",
      "0.8908514492753623\n"
     ]
    }
   ],
   "source": [
    "print(grid.best_params_)\n",
    "print(grid.best_score_)"
   ]
  },
  {
   "cell_type": "markdown",
   "metadata": {},
   "source": [
    "And thats the model we will choose!"
   ]
  },
  {
   "cell_type": "code",
   "execution_count": 40,
   "metadata": {},
   "outputs": [],
   "source": [
    "selected_feats_final = np.array(['serving_size', '1003', '1004', '1005', '1008', '1079', '1086',\n",
    "       '1087', '1090', '1092', '1095', '1104', '1162', '1235', '1257',\n",
    "       '1258', '1292', '1293', '2000', 'brandcol_2', 'brandcol_7',\n",
    "       'brandcol_9', 'brandcol_11', 'brandcol_12', 'brandcol_15',\n",
    "       'brandcol_29', 'servingcol_5', 'servingcol_6', 'servingcol_8',\n",
    "       'servingcol_10'])"
   ]
  },
  {
   "cell_type": "code",
   "execution_count": 46,
   "metadata": {},
   "outputs": [],
   "source": [
    "def concluded_data(copied_data, y_data):\n",
    "    new_data = copied_data.copy()\n",
    "    new_data = new_data.assign(brand = ['other_brand' if item not in unique_brand_list else item for item in new_data['brand']],\n",
    "                        servings = ['other_serving' if item not in unique_serv_list else item for item in new_data['servings']])\n",
    "    hashed_brand = encoder30.fit_transform(new_data.brand)\n",
    "    hashed_serv =  encoder15.fit_transform(new_data.servings)\n",
    "\n",
    "    hashed_brand = pd.DataFrame(hashed_brand).add_prefix('brand')\n",
    "    hashed_serv = pd.DataFrame(hashed_serv).add_prefix('serving')\n",
    "\n",
    "    # adding same index to prevent NAN's\n",
    "    hashed_serv.index = new_data.index\n",
    "    hashed_brand.index = new_data.index\n",
    "    new_data = pd.concat([new_data,hashed_serv], axis = 1)\n",
    "    new_data = pd.concat([new_data,hashed_brand], axis = 1)\n",
    "    new_data = new_data.set_index('idx')\n",
    "    new_data = new_data.drop(['brand',\"servings\",\"category\", \"Unnamed: 0\"], axis = 1)\n",
    "\n",
    "    cl = new_data.columns.get_loc('2033') + 1\n",
    "    new_data.iloc[ :,:cl] = new_data.iloc[ :,:cl].astype('float64')\n",
    "    new_data.iloc[ :,cl:] = new_data.iloc[ :,cl:].astype('bool')\n",
    "    new_data =  new_data.loc[:,selected_feats_final]\n",
    "\n",
    "    # droping the zero var columns \n",
    "    vt = VarianceThreshold()\n",
    "    _ = vt.fit(new_data)\n",
    "    mask = vt.get_support()\n",
    "    new_data = new_data.loc[:, mask]\n",
    "\n",
    "    # determine categorical and numerical features that's left\n",
    "    numerical_ix = new_data.select_dtypes(include=['float64']).columns\n",
    "    #categorical_ix = new_data.select_dtypes(include=[ 'bool']).columns\n",
    "\n",
    "    # transforming with min max\n",
    "    t = [ ('scale', MinMaxScaler(),numerical_ix)]\n",
    "    ct = ColumnTransformer(transformers=t, remainder='passthrough')\n",
    "    X_trans = ct.fit_transform(new_data)  \n",
    "    new_data = pd.DataFrame(X_trans, index=new_data.index, columns=new_data.columns)\n",
    "\n",
    "    # define pipeline\n",
    "    over = SMOTE(sampling_strategy='all')\n",
    "    under = RandomUnderSampler(sampling_strategy='all')\n",
    "    steps = [('u', under),('o', over)]\n",
    "    pipeline = Pipeline(steps=steps)\n",
    "\n",
    "    # transform the dataset\n",
    "    new_data, y2 = pipeline.fit_resample(new_data, y = y_data)\n",
    "    return new_data, y2"
   ]
  },
  {
   "cell_type": "code",
   "execution_count": 47,
   "metadata": {},
   "outputs": [],
   "source": [
    "main5 ,lable2 = concluded_data(main4, lable)"
   ]
  },
  {
   "cell_type": "code",
   "execution_count": 48,
   "metadata": {},
   "outputs": [
    {
     "data": {
      "text/html": [
       "<div>\n",
       "<style scoped>\n",
       "    .dataframe tbody tr th:only-of-type {\n",
       "        vertical-align: middle;\n",
       "    }\n",
       "\n",
       "    .dataframe tbody tr th {\n",
       "        vertical-align: top;\n",
       "    }\n",
       "\n",
       "    .dataframe thead th {\n",
       "        text-align: right;\n",
       "    }\n",
       "</style>\n",
       "<table border=\"1\" class=\"dataframe\">\n",
       "  <thead>\n",
       "    <tr style=\"text-align: right;\">\n",
       "      <th></th>\n",
       "      <th>serving_size</th>\n",
       "      <th>1003</th>\n",
       "      <th>1004</th>\n",
       "      <th>1005</th>\n",
       "      <th>1008</th>\n",
       "      <th>1079</th>\n",
       "      <th>1086</th>\n",
       "      <th>1087</th>\n",
       "      <th>1090</th>\n",
       "      <th>1092</th>\n",
       "      <th>...</th>\n",
       "      <th>brandcol_7</th>\n",
       "      <th>brandcol_9</th>\n",
       "      <th>brandcol_11</th>\n",
       "      <th>brandcol_12</th>\n",
       "      <th>brandcol_15</th>\n",
       "      <th>brandcol_29</th>\n",
       "      <th>servingcol_5</th>\n",
       "      <th>servingcol_6</th>\n",
       "      <th>servingcol_8</th>\n",
       "      <th>servingcol_10</th>\n",
       "    </tr>\n",
       "  </thead>\n",
       "  <tbody>\n",
       "    <tr>\n",
       "      <th>0</th>\n",
       "      <td>0.047470</td>\n",
       "      <td>0.0435</td>\n",
       "      <td>0.1957</td>\n",
       "      <td>0.5217</td>\n",
       "      <td>0.181270</td>\n",
       "      <td>0.000</td>\n",
       "      <td>0.0</td>\n",
       "      <td>0.001305</td>\n",
       "      <td>0.0</td>\n",
       "      <td>0.0</td>\n",
       "      <td>...</td>\n",
       "      <td>1.0</td>\n",
       "      <td>0.0</td>\n",
       "      <td>0.0</td>\n",
       "      <td>0.0</td>\n",
       "      <td>0.0</td>\n",
       "      <td>0.0</td>\n",
       "      <td>1.0</td>\n",
       "      <td>0.0</td>\n",
       "      <td>0.0</td>\n",
       "      <td>0.0</td>\n",
       "    </tr>\n",
       "    <tr>\n",
       "      <th>1</th>\n",
       "      <td>0.232974</td>\n",
       "      <td>0.0446</td>\n",
       "      <td>0.1607</td>\n",
       "      <td>0.3571</td>\n",
       "      <td>0.144645</td>\n",
       "      <td>0.009</td>\n",
       "      <td>0.0</td>\n",
       "      <td>0.001065</td>\n",
       "      <td>0.0</td>\n",
       "      <td>0.0</td>\n",
       "      <td>...</td>\n",
       "      <td>0.0</td>\n",
       "      <td>0.0</td>\n",
       "      <td>0.0</td>\n",
       "      <td>0.0</td>\n",
       "      <td>1.0</td>\n",
       "      <td>0.0</td>\n",
       "      <td>0.0</td>\n",
       "      <td>0.0</td>\n",
       "      <td>0.0</td>\n",
       "      <td>0.0</td>\n",
       "    </tr>\n",
       "    <tr>\n",
       "      <th>2</th>\n",
       "      <td>0.089156</td>\n",
       "      <td>0.0465</td>\n",
       "      <td>0.2326</td>\n",
       "      <td>0.5581</td>\n",
       "      <td>0.215577</td>\n",
       "      <td>0.023</td>\n",
       "      <td>0.0</td>\n",
       "      <td>0.000000</td>\n",
       "      <td>0.0</td>\n",
       "      <td>0.0</td>\n",
       "      <td>...</td>\n",
       "      <td>1.0</td>\n",
       "      <td>0.0</td>\n",
       "      <td>0.0</td>\n",
       "      <td>0.0</td>\n",
       "      <td>0.0</td>\n",
       "      <td>0.0</td>\n",
       "      <td>0.0</td>\n",
       "      <td>0.0</td>\n",
       "      <td>0.0</td>\n",
       "      <td>0.0</td>\n",
       "    </tr>\n",
       "    <tr>\n",
       "      <th>3</th>\n",
       "      <td>0.282997</td>\n",
       "      <td>0.0368</td>\n",
       "      <td>0.1691</td>\n",
       "      <td>0.2647</td>\n",
       "      <td>0.126101</td>\n",
       "      <td>0.000</td>\n",
       "      <td>0.0</td>\n",
       "      <td>0.000660</td>\n",
       "      <td>0.0</td>\n",
       "      <td>0.0</td>\n",
       "      <td>...</td>\n",
       "      <td>0.0</td>\n",
       "      <td>0.0</td>\n",
       "      <td>0.0</td>\n",
       "      <td>0.0</td>\n",
       "      <td>1.0</td>\n",
       "      <td>0.0</td>\n",
       "      <td>1.0</td>\n",
       "      <td>0.0</td>\n",
       "      <td>0.0</td>\n",
       "      <td>0.0</td>\n",
       "    </tr>\n",
       "    <tr>\n",
       "      <th>4</th>\n",
       "      <td>0.235058</td>\n",
       "      <td>0.0265</td>\n",
       "      <td>0.1062</td>\n",
       "      <td>0.2920</td>\n",
       "      <td>0.102457</td>\n",
       "      <td>0.018</td>\n",
       "      <td>0.0</td>\n",
       "      <td>0.000795</td>\n",
       "      <td>0.0</td>\n",
       "      <td>0.0</td>\n",
       "      <td>...</td>\n",
       "      <td>1.0</td>\n",
       "      <td>0.0</td>\n",
       "      <td>0.0</td>\n",
       "      <td>0.0</td>\n",
       "      <td>0.0</td>\n",
       "      <td>0.0</td>\n",
       "      <td>0.0</td>\n",
       "      <td>0.0</td>\n",
       "      <td>0.0</td>\n",
       "      <td>0.0</td>\n",
       "    </tr>\n",
       "    <tr>\n",
       "      <th>...</th>\n",
       "      <td>...</td>\n",
       "      <td>...</td>\n",
       "      <td>...</td>\n",
       "      <td>...</td>\n",
       "      <td>...</td>\n",
       "      <td>...</td>\n",
       "      <td>...</td>\n",
       "      <td>...</td>\n",
       "      <td>...</td>\n",
       "      <td>...</td>\n",
       "      <td>...</td>\n",
       "      <td>...</td>\n",
       "      <td>...</td>\n",
       "      <td>...</td>\n",
       "      <td>...</td>\n",
       "      <td>...</td>\n",
       "      <td>...</td>\n",
       "      <td>...</td>\n",
       "      <td>...</td>\n",
       "      <td>...</td>\n",
       "      <td>...</td>\n",
       "    </tr>\n",
       "    <tr>\n",
       "      <th>22075</th>\n",
       "      <td>0.057892</td>\n",
       "      <td>0.1429</td>\n",
       "      <td>0.3929</td>\n",
       "      <td>0.4286</td>\n",
       "      <td>0.248493</td>\n",
       "      <td>0.071</td>\n",
       "      <td>0.0</td>\n",
       "      <td>0.001065</td>\n",
       "      <td>0.0</td>\n",
       "      <td>0.0</td>\n",
       "      <td>...</td>\n",
       "      <td>0.0</td>\n",
       "      <td>0.0</td>\n",
       "      <td>0.0</td>\n",
       "      <td>0.0</td>\n",
       "      <td>1.0</td>\n",
       "      <td>0.0</td>\n",
       "      <td>0.0</td>\n",
       "      <td>0.0</td>\n",
       "      <td>0.0</td>\n",
       "      <td>0.0</td>\n",
       "    </tr>\n",
       "    <tr>\n",
       "      <th>22076</th>\n",
       "      <td>0.057892</td>\n",
       "      <td>0.1429</td>\n",
       "      <td>0.3214</td>\n",
       "      <td>0.5357</td>\n",
       "      <td>0.248493</td>\n",
       "      <td>0.071</td>\n",
       "      <td>0.0</td>\n",
       "      <td>0.002145</td>\n",
       "      <td>0.0</td>\n",
       "      <td>0.0</td>\n",
       "      <td>...</td>\n",
       "      <td>0.0</td>\n",
       "      <td>0.0</td>\n",
       "      <td>0.0</td>\n",
       "      <td>1.0</td>\n",
       "      <td>0.0</td>\n",
       "      <td>0.0</td>\n",
       "      <td>0.0</td>\n",
       "      <td>0.0</td>\n",
       "      <td>0.0</td>\n",
       "      <td>0.0</td>\n",
       "    </tr>\n",
       "    <tr>\n",
       "      <th>22077</th>\n",
       "      <td>0.062060</td>\n",
       "      <td>0.1333</td>\n",
       "      <td>0.6000</td>\n",
       "      <td>0.2333</td>\n",
       "      <td>0.293463</td>\n",
       "      <td>0.067</td>\n",
       "      <td>0.0</td>\n",
       "      <td>0.000000</td>\n",
       "      <td>0.0</td>\n",
       "      <td>0.0</td>\n",
       "      <td>...</td>\n",
       "      <td>0.0</td>\n",
       "      <td>0.0</td>\n",
       "      <td>0.0</td>\n",
       "      <td>0.0</td>\n",
       "      <td>1.0</td>\n",
       "      <td>0.0</td>\n",
       "      <td>0.0</td>\n",
       "      <td>0.0</td>\n",
       "      <td>0.0</td>\n",
       "      <td>0.0</td>\n",
       "    </tr>\n",
       "    <tr>\n",
       "      <th>22078</th>\n",
       "      <td>0.057892</td>\n",
       "      <td>0.1786</td>\n",
       "      <td>0.7143</td>\n",
       "      <td>0.1071</td>\n",
       "      <td>0.347705</td>\n",
       "      <td>0.107</td>\n",
       "      <td>0.0</td>\n",
       "      <td>0.001065</td>\n",
       "      <td>0.0</td>\n",
       "      <td>0.0</td>\n",
       "      <td>...</td>\n",
       "      <td>0.0</td>\n",
       "      <td>0.0</td>\n",
       "      <td>0.0</td>\n",
       "      <td>1.0</td>\n",
       "      <td>0.0</td>\n",
       "      <td>0.0</td>\n",
       "      <td>0.0</td>\n",
       "      <td>0.0</td>\n",
       "      <td>0.0</td>\n",
       "      <td>0.0</td>\n",
       "    </tr>\n",
       "    <tr>\n",
       "      <th>22079</th>\n",
       "      <td>0.057892</td>\n",
       "      <td>0.1786</td>\n",
       "      <td>0.5000</td>\n",
       "      <td>0.3214</td>\n",
       "      <td>0.264720</td>\n",
       "      <td>0.036</td>\n",
       "      <td>0.0</td>\n",
       "      <td>0.001065</td>\n",
       "      <td>0.0</td>\n",
       "      <td>0.0</td>\n",
       "      <td>...</td>\n",
       "      <td>0.0</td>\n",
       "      <td>0.0</td>\n",
       "      <td>0.0</td>\n",
       "      <td>1.0</td>\n",
       "      <td>0.0</td>\n",
       "      <td>0.0</td>\n",
       "      <td>0.0</td>\n",
       "      <td>0.0</td>\n",
       "      <td>0.0</td>\n",
       "      <td>0.0</td>\n",
       "    </tr>\n",
       "  </tbody>\n",
       "</table>\n",
       "<p>22080 rows × 30 columns</p>\n",
       "</div>"
      ],
      "text/plain": [
       "       serving_size    1003    1004    1005      1008   1079  1086      1087  \\\n",
       "0          0.047470  0.0435  0.1957  0.5217  0.181270  0.000   0.0  0.001305   \n",
       "1          0.232974  0.0446  0.1607  0.3571  0.144645  0.009   0.0  0.001065   \n",
       "2          0.089156  0.0465  0.2326  0.5581  0.215577  0.023   0.0  0.000000   \n",
       "3          0.282997  0.0368  0.1691  0.2647  0.126101  0.000   0.0  0.000660   \n",
       "4          0.235058  0.0265  0.1062  0.2920  0.102457  0.018   0.0  0.000795   \n",
       "...             ...     ...     ...     ...       ...    ...   ...       ...   \n",
       "22075      0.057892  0.1429  0.3929  0.4286  0.248493  0.071   0.0  0.001065   \n",
       "22076      0.057892  0.1429  0.3214  0.5357  0.248493  0.071   0.0  0.002145   \n",
       "22077      0.062060  0.1333  0.6000  0.2333  0.293463  0.067   0.0  0.000000   \n",
       "22078      0.057892  0.1786  0.7143  0.1071  0.347705  0.107   0.0  0.001065   \n",
       "22079      0.057892  0.1786  0.5000  0.3214  0.264720  0.036   0.0  0.001065   \n",
       "\n",
       "       1090  1092  ...  brandcol_7  brandcol_9  brandcol_11  brandcol_12  \\\n",
       "0       0.0   0.0  ...         1.0         0.0          0.0          0.0   \n",
       "1       0.0   0.0  ...         0.0         0.0          0.0          0.0   \n",
       "2       0.0   0.0  ...         1.0         0.0          0.0          0.0   \n",
       "3       0.0   0.0  ...         0.0         0.0          0.0          0.0   \n",
       "4       0.0   0.0  ...         1.0         0.0          0.0          0.0   \n",
       "...     ...   ...  ...         ...         ...          ...          ...   \n",
       "22075   0.0   0.0  ...         0.0         0.0          0.0          0.0   \n",
       "22076   0.0   0.0  ...         0.0         0.0          0.0          1.0   \n",
       "22077   0.0   0.0  ...         0.0         0.0          0.0          0.0   \n",
       "22078   0.0   0.0  ...         0.0         0.0          0.0          1.0   \n",
       "22079   0.0   0.0  ...         0.0         0.0          0.0          1.0   \n",
       "\n",
       "       brandcol_15  brandcol_29  servingcol_5  servingcol_6  servingcol_8  \\\n",
       "0              0.0          0.0           1.0           0.0           0.0   \n",
       "1              1.0          0.0           0.0           0.0           0.0   \n",
       "2              0.0          0.0           0.0           0.0           0.0   \n",
       "3              1.0          0.0           1.0           0.0           0.0   \n",
       "4              0.0          0.0           0.0           0.0           0.0   \n",
       "...            ...          ...           ...           ...           ...   \n",
       "22075          1.0          0.0           0.0           0.0           0.0   \n",
       "22076          0.0          0.0           0.0           0.0           0.0   \n",
       "22077          1.0          0.0           0.0           0.0           0.0   \n",
       "22078          0.0          0.0           0.0           0.0           0.0   \n",
       "22079          0.0          0.0           0.0           0.0           0.0   \n",
       "\n",
       "       servingcol_10  \n",
       "0                0.0  \n",
       "1                0.0  \n",
       "2                0.0  \n",
       "3                0.0  \n",
       "4                0.0  \n",
       "...              ...  \n",
       "22075            0.0  \n",
       "22076            0.0  \n",
       "22077            0.0  \n",
       "22078            0.0  \n",
       "22079            0.0  \n",
       "\n",
       "[22080 rows x 30 columns]"
      ]
     },
     "execution_count": 48,
     "metadata": {},
     "output_type": "execute_result"
    }
   ],
   "source": [
    "main5"
   ]
  },
  {
   "cell_type": "code",
   "execution_count": 49,
   "metadata": {},
   "outputs": [],
   "source": [
    "final_model = ExtraTreesClassifier(n_estimators = 250, \n",
    "min_samples_split = 5, \n",
    "random_state = 1,\n",
    "min_samples_leaf = 1,\n",
    "criterion = 'entropy', bootstrap= True)\n",
    "#final_model.fit(main5, lable2)\n"
   ]
  },
  {
   "cell_type": "code",
   "execution_count": 71,
   "metadata": {},
   "outputs": [
    {
     "name": "stdout",
     "output_type": "stream",
     "text": [
      "Mean accuracy:  0.9120320048309178\n"
     ]
    }
   ],
   "source": [
    "scores = cross_val_score(final_model, main5, lable2, scoring='accuracy', cv=cv, n_jobs=-1)\n",
    "print('Mean accuracy: ' , np.mean(scores))"
   ]
  },
  {
   "cell_type": "code",
   "execution_count": 72,
   "metadata": {},
   "outputs": [
    {
     "data": {
      "text/plain": [
       "ExtraTreesClassifier(bootstrap=True, criterion='entropy', min_samples_split=5,\n",
       "                     n_estimators=250, random_state=1)"
      ]
     },
     "execution_count": 72,
     "metadata": {},
     "output_type": "execute_result"
    }
   ],
   "source": [
    "final_model.fit(main5, lable2)"
   ]
  },
  {
   "cell_type": "code",
   "execution_count": 184,
   "metadata": {},
   "outputs": [],
   "source": [
    "# doing the same for the test set"
   ]
  },
  {
   "cell_type": "code",
   "execution_count": 73,
   "metadata": {},
   "outputs": [
    {
     "data": {
      "text/html": [
       "<div>\n",
       "<style scoped>\n",
       "    .dataframe tbody tr th:only-of-type {\n",
       "        vertical-align: middle;\n",
       "    }\n",
       "\n",
       "    .dataframe tbody tr th {\n",
       "        vertical-align: top;\n",
       "    }\n",
       "\n",
       "    .dataframe thead th {\n",
       "        text-align: right;\n",
       "    }\n",
       "</style>\n",
       "<table border=\"1\" class=\"dataframe\">\n",
       "  <thead>\n",
       "    <tr style=\"text-align: right;\">\n",
       "      <th></th>\n",
       "      <th>idx</th>\n",
       "      <th>1002</th>\n",
       "      <th>1003</th>\n",
       "      <th>1004</th>\n",
       "      <th>1005</th>\n",
       "      <th>1007</th>\n",
       "      <th>1008</th>\n",
       "      <th>1009</th>\n",
       "      <th>1010</th>\n",
       "      <th>1011</th>\n",
       "      <th>...</th>\n",
       "      <th>2021</th>\n",
       "      <th>2022</th>\n",
       "      <th>2023</th>\n",
       "      <th>2024</th>\n",
       "      <th>2025</th>\n",
       "      <th>2026</th>\n",
       "      <th>2028</th>\n",
       "      <th>2029</th>\n",
       "      <th>2032</th>\n",
       "      <th>2033</th>\n",
       "    </tr>\n",
       "  </thead>\n",
       "  <tbody>\n",
       "  </tbody>\n",
       "</table>\n",
       "<p>0 rows × 236 columns</p>\n",
       "</div>"
      ],
      "text/plain": [
       "Empty DataFrame\n",
       "Columns: [idx, 1002, 1003, 1004, 1005, 1007, 1008, 1009, 1010, 1011, 1012, 1013, 1014, 1018, 1024, 1026, 1032, 1038, 1039, 1050, 1051, 1056, 1057, 1058, 1062, 1063, 1072, 1075, 1078, 1079, 1081, 1082, 1084, 1085, 1086, 1087, 1088, 1089, 1090, 1091, 1092, 1093, 1094, 1095, 1096, 1097, 1098, 1099, 1100, 1101, 1102, 1103, 1104, 1105, 1106, 1107, 1108, 1109, 1110, 1111, 1112, 1113, 1114, 1116, 1117, 1119, 1120, 1121, 1122, 1123, 1124, 1125, 1126, 1127, 1128, 1129, 1130, 1131, 1137, 1146, 1158, 1159, 1160, 1161, 1162, 1165, 1166, 1167, 1170, 1175, 1176, 1177, 1178, 1180, 1181, 1183, 1184, 1185, 1186, 1187, ...]\n",
       "Index: []\n",
       "\n",
       "[0 rows x 236 columns]"
      ]
     },
     "execution_count": 73,
     "metadata": {},
     "output_type": "execute_result"
    }
   ],
   "source": [
    "# return all the numbers in nutrient id\n",
    "# nut_wide = nutrients.pivot(index=\"idx\", columns=\"nutrient_id\", values=\"amount\")\n",
    "nut_ids = ['idx']\n",
    "for id in nutrients.nutrient_id:\n",
    "    nut_ids.append(id)\n",
    "\n",
    "nut_data = pd.DataFrame(columns = nut_ids)\n",
    "nut_data"
   ]
  },
  {
   "cell_type": "code",
   "execution_count": 74,
   "metadata": {},
   "outputs": [
    {
     "name": "stdout",
     "output_type": "stream",
     "text": [
      "1\n"
     ]
    }
   ],
   "source": [
    "food_test.shape\n",
    "print(range(4).step)"
   ]
  },
  {
   "cell_type": "markdown",
   "metadata": {},
   "source": [
    "#start_time = time.time()\n",
    "appended_data = [nut_data]\n",
    "for value in range(3525):\n",
    "    # for every snack in the training sample get it's nutritional values\n",
    "    indx = food_test['idx'][value]\n",
    "    df2 = food_nutrients.query(\"idx == @indx\").loc[:, 'nutrient_id':'amount'].set_index(\"nutrient_id\").T\n",
    "    df2['idx']= indx\n",
    "    appended_data.append(df2)\n",
    "    print(value)\n",
    "\n",
    "appended_data = pd.concat(appended_data, axis=0)\n",
    "\n",
    "#end_time = time.time()\n",
    "#print('Execution time = %.6f seconds' % (end_time-start_time))"
   ]
  },
  {
   "cell_type": "code",
   "execution_count": 75,
   "metadata": {},
   "outputs": [],
   "source": [
    "appended_data2 = pd.read_csv('/home/dovikde/Documents/Studies/Ds_applications/Final_ProjectTuchdov/data/all_nuts_test.csv')\n",
    "# fill zero where there isn't any nutritional data\n",
    "appended_data2 = appended_data2.fillna(0.0).reset_index(drop = True)\n"
   ]
  },
  {
   "cell_type": "code",
   "execution_count": 76,
   "metadata": {},
   "outputs": [],
   "source": [
    "main_test = food_test.merge(appended_data2, on='idx', how='left')\n",
    "#main\n",
    "\n",
    "main_test.loc[:, \"serving_size_unit\"] = main.serving_size_unit.astype('category')\n",
    "\n",
    "# make a list of unique brands in each category\n",
    "# leave the brands that  only belong to one category\n",
    "# list of categorys\n",
    "cat_list = food_train.category.unique()\n"
   ]
  },
  {
   "cell_type": "code",
   "execution_count": 77,
   "metadata": {},
   "outputs": [],
   "source": [
    "# get all the brands in each category\n",
    "cat_brand_list = []\n",
    "for cat in cat_list:\n",
    "    brand_list = food_train.query('category == @cat').brand.unique()\n",
    "    cat_brand_list.append(brand_list)\n"
   ]
  },
  {
   "cell_type": "code",
   "execution_count": 78,
   "metadata": {},
   "outputs": [],
   "source": [
    "# get all the brands in other categories\n",
    "other_brand_list = []\n",
    "for cat in cat_list:\n",
    "    brand_list = food_train.query('category != @cat').brand.unique()\n",
    "    other_brand_list.append(brand_list)\n"
   ]
  },
  {
   "cell_type": "code",
   "execution_count": 79,
   "metadata": {},
   "outputs": [],
   "source": [
    "# brands that only belong to one category\n",
    "only_cat = []\n",
    "for i in range(len(cat_brand_list)):\n",
    "    mask = np.isin(cat_brand_list[i], other_brand_list[i], invert= True)\n",
    "    unique_category_brands = cat_brand_list[i][mask]\n",
    "    only_cat.append(unique_category_brands)\n",
    "    \n",
    "#main = main.assign(brand = ['chocolate brand' if a > 0 else 'neg' for a in df['a']])"
   ]
  },
  {
   "cell_type": "code",
   "execution_count": 80,
   "metadata": {},
   "outputs": [],
   "source": [
    "main_test = main_test.assign(brand = ['chocolate_brand' if item in only_cat[0] else item for item in main_test['brand']])\n",
    "main_test = main_test.assign(brand = ['cookies_biscuits_brand' if item in only_cat[1] else item for item in main_test['brand']])\n",
    "main_test = main_test.assign(brand = ['cakes_cupcakes_snack_cakes_brand' if item in only_cat[2] else item for item in main_test['brand']])\n",
    "main_test = main_test.assign(brand = ['candy_brand' if item in only_cat[3] else item for item in main_test['brand']])\n",
    "main_test = main_test.assign(brand = ['chips_pretzels_snacks_brand' if item in only_cat[4] else item for item in main_test['brand']])\n",
    "main_test = main_test.assign(brand = ['popcorn_peanuts_seeds_related_snacks_brand' if item in only_cat[5] else item for item in main_test['brand']])"
   ]
  },
  {
   "cell_type": "code",
   "execution_count": 81,
   "metadata": {},
   "outputs": [
    {
     "name": "stderr",
     "output_type": "stream",
     "text": [
      "/tmp/ipykernel_4752/2076572199.py:1: FutureWarning: The default value of regex will change from True to False in a future version.\n",
      "  main_test.loc[:, \"servings\"] = main_test.loc[:, \"household_serving_fulltext\"].str.strip().str.replace('[^a-zA-Z ]', \"\").str.replace('about', \"\").str.replace('per container', \"\").str.strip()\n"
     ]
    }
   ],
   "source": [
    "\n",
    "main_test.loc[:, \"servings\"] = main_test.loc[:, \"household_serving_fulltext\"].str.strip().str.replace('[^a-zA-Z ]', \"\").str.replace('about', \"\").str.replace('per container', \"\").str.strip()\n",
    "main_test.insert(7,\"servings\", main_test.pop('servings'))"
   ]
  },
  {
   "cell_type": "code",
   "execution_count": 82,
   "metadata": {},
   "outputs": [],
   "source": [
    "# make a list of unique brands in each category\n",
    "# leave the brands that  only belong to one category\n",
    "# list of categorys\n",
    "cat_list = food_train.category.unique()\n",
    "cat_list\n",
    "# get all the brands in each category\n",
    "serv_brand_list = []\n",
    "for cat in cat_list:\n",
    "    brand_list = main2.query('category == @cat').servings.unique()\n",
    "    serv_brand_list.append(brand_list)\n",
    "\n",
    "# get all the brands in other categories\n",
    "other_serv_list = []\n",
    "for cat in cat_list:\n",
    "    brand_list = main2.query('category != @cat').servings.unique()\n",
    "    other_serv_list.append(brand_list)\n",
    "\n",
    "# brands that only belong to one category\n",
    "only_serv = []\n",
    "for i in range(len(serv_brand_list)):\n",
    "    mask = np.isin(serv_brand_list[i], other_serv_list[i], invert= True)\n",
    "    unique_category_servings = serv_brand_list[i][mask]\n",
    "    only_serv.append(unique_category_servings)\n",
    "    \n",
    "#main = main.assign(brand = ['chocolate brand' if a > 0 else 'neg' for a in df['a']])\n",
    "main_test = main_test.assign(servings = ['chocolate_servings' if item in only_serv[0] else item for item in main_test['servings']])\n",
    "main_test = main_test.assign(servings = ['cookies_biscuits_servings' if item in only_serv[1] else item for item in main_test['servings']])\n",
    "main_test = main_test.assign(servings = ['cakes_cupcakes_snack_cakes_servings' if item in only_serv[2] else item for item in main_test['servings']])\n",
    "main_test = main_test.assign(servings = ['candy_servings' if item in only_serv[3] else item for item in main_test['servings']])\n",
    "main_test = main_test.assign(servings = ['chips_pretzels_snacks_servings' if item in only_serv[4] else item for item in main_test['servings']])\n",
    "main_test = main_test.assign(servings = ['popcorn_peanuts_seeds_related_snacks_servings' if item in only_serv[5] else item for item in main_test['servings']])# doing the same thing I did with brands to servings\n"
   ]
  },
  {
   "cell_type": "code",
   "execution_count": 83,
   "metadata": {},
   "outputs": [],
   "source": [
    "# let's try to stemm\n",
    "stemmer = SnowballStemmer(\"english\") #define stemming dict\n",
    "\n",
    "main_test.loc[:,\"servings\"] = main_test.loc[:,\"servings\"].astype(str)\n",
    "main_test.loc[:,\"servings\"]= main_test.loc[:,\"servings\"].apply(stemmer.stem)"
   ]
  },
  {
   "cell_type": "markdown",
   "metadata": {},
   "source": [
    "There are only 8 observations that have ml in them, i will choosr to drop themb"
   ]
  },
  {
   "cell_type": "code",
   "execution_count": 84,
   "metadata": {},
   "outputs": [],
   "source": [
    "# main4 = main3.query(\"serving_size_unit != 'ml'\")\n",
    "main_test = main_test.drop(['household_serving_fulltext',\"serving_size_unit\",\"ingredients\",\"description\"], axis = 1)\n",
    "main_test.loc[:,'brand'] = main_test.loc[:,'brand'].astype('category')"
   ]
  },
  {
   "cell_type": "code",
   "execution_count": 85,
   "metadata": {},
   "outputs": [],
   "source": [
    "main_test.to_csv('actual_main.csv')"
   ]
  },
  {
   "cell_type": "code",
   "execution_count": 86,
   "metadata": {},
   "outputs": [
    {
     "data": {
      "text/html": [
       "<div>\n",
       "<style scoped>\n",
       "    .dataframe tbody tr th:only-of-type {\n",
       "        vertical-align: middle;\n",
       "    }\n",
       "\n",
       "    .dataframe tbody tr th {\n",
       "        vertical-align: top;\n",
       "    }\n",
       "\n",
       "    .dataframe thead th {\n",
       "        text-align: right;\n",
       "    }\n",
       "</style>\n",
       "<table border=\"1\" class=\"dataframe\">\n",
       "  <thead>\n",
       "    <tr style=\"text-align: right;\">\n",
       "      <th></th>\n",
       "      <th>idx</th>\n",
       "      <th>brand</th>\n",
       "      <th>serving_size</th>\n",
       "      <th>servings</th>\n",
       "      <th>Unnamed: 0</th>\n",
       "      <th>1002</th>\n",
       "      <th>1003</th>\n",
       "      <th>1004</th>\n",
       "      <th>1005</th>\n",
       "      <th>1007</th>\n",
       "      <th>...</th>\n",
       "      <th>2021</th>\n",
       "      <th>2022</th>\n",
       "      <th>2023</th>\n",
       "      <th>2024</th>\n",
       "      <th>2025</th>\n",
       "      <th>2026</th>\n",
       "      <th>2028</th>\n",
       "      <th>2029</th>\n",
       "      <th>2032</th>\n",
       "      <th>2033</th>\n",
       "    </tr>\n",
       "  </thead>\n",
       "  <tbody>\n",
       "    <tr>\n",
       "      <th>0</th>\n",
       "      <td>13</td>\n",
       "      <td>csm bakery products na, inc.</td>\n",
       "      <td>39.0</td>\n",
       "      <td>grm</td>\n",
       "      <td>amount</td>\n",
       "      <td>0.0</td>\n",
       "      <td>2.56</td>\n",
       "      <td>11.54</td>\n",
       "      <td>64.10</td>\n",
       "      <td>0.0</td>\n",
       "      <td>...</td>\n",
       "      <td>0.0</td>\n",
       "      <td>0.0</td>\n",
       "      <td>0.0</td>\n",
       "      <td>0.0</td>\n",
       "      <td>0.0</td>\n",
       "      <td>0.0</td>\n",
       "      <td>0.0</td>\n",
       "      <td>0.0</td>\n",
       "      <td>0.0</td>\n",
       "      <td>0.0</td>\n",
       "    </tr>\n",
       "    <tr>\n",
       "      <th>1</th>\n",
       "      <td>15</td>\n",
       "      <td>chips_pretzels_snacks_brand</td>\n",
       "      <td>28.0</td>\n",
       "      <td>onz</td>\n",
       "      <td>amount</td>\n",
       "      <td>0.0</td>\n",
       "      <td>7.14</td>\n",
       "      <td>12.50</td>\n",
       "      <td>75.00</td>\n",
       "      <td>0.0</td>\n",
       "      <td>...</td>\n",
       "      <td>0.0</td>\n",
       "      <td>0.0</td>\n",
       "      <td>0.0</td>\n",
       "      <td>0.0</td>\n",
       "      <td>0.0</td>\n",
       "      <td>0.0</td>\n",
       "      <td>0.0</td>\n",
       "      <td>0.0</td>\n",
       "      <td>0.0</td>\n",
       "      <td>0.0</td>\n",
       "    </tr>\n",
       "    <tr>\n",
       "      <th>2</th>\n",
       "      <td>16</td>\n",
       "      <td>cookies_biscuits_brand</td>\n",
       "      <td>28.0</td>\n",
       "      <td>cooki</td>\n",
       "      <td>amount</td>\n",
       "      <td>0.0</td>\n",
       "      <td>10.71</td>\n",
       "      <td>17.86</td>\n",
       "      <td>64.29</td>\n",
       "      <td>0.0</td>\n",
       "      <td>...</td>\n",
       "      <td>0.0</td>\n",
       "      <td>0.0</td>\n",
       "      <td>0.0</td>\n",
       "      <td>0.0</td>\n",
       "      <td>0.0</td>\n",
       "      <td>0.0</td>\n",
       "      <td>0.0</td>\n",
       "      <td>0.0</td>\n",
       "      <td>0.0</td>\n",
       "      <td>0.0</td>\n",
       "    </tr>\n",
       "    <tr>\n",
       "      <th>3</th>\n",
       "      <td>23</td>\n",
       "      <td>safeway, inc.</td>\n",
       "      <td>28.0</td>\n",
       "      <td>chip</td>\n",
       "      <td>amount</td>\n",
       "      <td>0.0</td>\n",
       "      <td>7.14</td>\n",
       "      <td>25.00</td>\n",
       "      <td>64.29</td>\n",
       "      <td>0.0</td>\n",
       "      <td>...</td>\n",
       "      <td>0.0</td>\n",
       "      <td>0.0</td>\n",
       "      <td>0.0</td>\n",
       "      <td>0.0</td>\n",
       "      <td>0.0</td>\n",
       "      <td>0.0</td>\n",
       "      <td>0.0</td>\n",
       "      <td>0.0</td>\n",
       "      <td>0.0</td>\n",
       "      <td>0.0</td>\n",
       "    </tr>\n",
       "    <tr>\n",
       "      <th>4</th>\n",
       "      <td>40</td>\n",
       "      <td>inventure foods, inc.</td>\n",
       "      <td>28.0</td>\n",
       "      <td>onz</td>\n",
       "      <td>amount</td>\n",
       "      <td>0.0</td>\n",
       "      <td>7.14</td>\n",
       "      <td>25.00</td>\n",
       "      <td>60.71</td>\n",
       "      <td>0.0</td>\n",
       "      <td>...</td>\n",
       "      <td>0.0</td>\n",
       "      <td>0.0</td>\n",
       "      <td>0.0</td>\n",
       "      <td>0.0</td>\n",
       "      <td>0.0</td>\n",
       "      <td>0.0</td>\n",
       "      <td>0.0</td>\n",
       "      <td>0.0</td>\n",
       "      <td>0.0</td>\n",
       "      <td>0.0</td>\n",
       "    </tr>\n",
       "    <tr>\n",
       "      <th>...</th>\n",
       "      <td>...</td>\n",
       "      <td>...</td>\n",
       "      <td>...</td>\n",
       "      <td>...</td>\n",
       "      <td>...</td>\n",
       "      <td>...</td>\n",
       "      <td>...</td>\n",
       "      <td>...</td>\n",
       "      <td>...</td>\n",
       "      <td>...</td>\n",
       "      <td>...</td>\n",
       "      <td>...</td>\n",
       "      <td>...</td>\n",
       "      <td>...</td>\n",
       "      <td>...</td>\n",
       "      <td>...</td>\n",
       "      <td>...</td>\n",
       "      <td>...</td>\n",
       "      <td>...</td>\n",
       "      <td>...</td>\n",
       "      <td>...</td>\n",
       "    </tr>\n",
       "    <tr>\n",
       "      <th>3520</th>\n",
       "      <td>35215</td>\n",
       "      <td>mike-sell's potato chip co.</td>\n",
       "      <td>28.0</td>\n",
       "      <td>onz</td>\n",
       "      <td>amount</td>\n",
       "      <td>0.0</td>\n",
       "      <td>7.14</td>\n",
       "      <td>25.00</td>\n",
       "      <td>60.71</td>\n",
       "      <td>0.0</td>\n",
       "      <td>...</td>\n",
       "      <td>0.0</td>\n",
       "      <td>0.0</td>\n",
       "      <td>0.0</td>\n",
       "      <td>0.0</td>\n",
       "      <td>0.0</td>\n",
       "      <td>0.0</td>\n",
       "      <td>0.0</td>\n",
       "      <td>0.0</td>\n",
       "      <td>0.0</td>\n",
       "      <td>0.0</td>\n",
       "    </tr>\n",
       "    <tr>\n",
       "      <th>3521</th>\n",
       "      <td>35241</td>\n",
       "      <td>true north</td>\n",
       "      <td>28.0</td>\n",
       "      <td>onz</td>\n",
       "      <td>amount</td>\n",
       "      <td>0.0</td>\n",
       "      <td>17.86</td>\n",
       "      <td>42.86</td>\n",
       "      <td>32.14</td>\n",
       "      <td>0.0</td>\n",
       "      <td>...</td>\n",
       "      <td>0.0</td>\n",
       "      <td>0.0</td>\n",
       "      <td>0.0</td>\n",
       "      <td>0.0</td>\n",
       "      <td>0.0</td>\n",
       "      <td>0.0</td>\n",
       "      <td>0.0</td>\n",
       "      <td>0.0</td>\n",
       "      <td>0.0</td>\n",
       "      <td>0.0</td>\n",
       "    </tr>\n",
       "    <tr>\n",
       "      <th>3522</th>\n",
       "      <td>35255</td>\n",
       "      <td>first street</td>\n",
       "      <td>16.0</td>\n",
       "      <td>piec</td>\n",
       "      <td>amount</td>\n",
       "      <td>0.0</td>\n",
       "      <td>0.00</td>\n",
       "      <td>0.00</td>\n",
       "      <td>100.00</td>\n",
       "      <td>0.0</td>\n",
       "      <td>...</td>\n",
       "      <td>0.0</td>\n",
       "      <td>0.0</td>\n",
       "      <td>0.0</td>\n",
       "      <td>0.0</td>\n",
       "      <td>0.0</td>\n",
       "      <td>0.0</td>\n",
       "      <td>0.0</td>\n",
       "      <td>0.0</td>\n",
       "      <td>0.0</td>\n",
       "      <td>0.0</td>\n",
       "    </tr>\n",
       "    <tr>\n",
       "      <th>3523</th>\n",
       "      <td>35258</td>\n",
       "      <td>lindt &amp; sprungli (schweiz) ag</td>\n",
       "      <td>28.0</td>\n",
       "      <td>egg</td>\n",
       "      <td>amount</td>\n",
       "      <td>0.0</td>\n",
       "      <td>3.57</td>\n",
       "      <td>46.43</td>\n",
       "      <td>42.86</td>\n",
       "      <td>0.0</td>\n",
       "      <td>...</td>\n",
       "      <td>0.0</td>\n",
       "      <td>0.0</td>\n",
       "      <td>0.0</td>\n",
       "      <td>0.0</td>\n",
       "      <td>0.0</td>\n",
       "      <td>0.0</td>\n",
       "      <td>0.0</td>\n",
       "      <td>0.0</td>\n",
       "      <td>0.0</td>\n",
       "      <td>0.0</td>\n",
       "    </tr>\n",
       "    <tr>\n",
       "      <th>3524</th>\n",
       "      <td>35271</td>\n",
       "      <td>safeway, inc.</td>\n",
       "      <td>50.0</td>\n",
       "      <td>pack  biscuit</td>\n",
       "      <td>amount</td>\n",
       "      <td>0.0</td>\n",
       "      <td>8.00</td>\n",
       "      <td>16.00</td>\n",
       "      <td>74.00</td>\n",
       "      <td>0.0</td>\n",
       "      <td>...</td>\n",
       "      <td>0.0</td>\n",
       "      <td>0.0</td>\n",
       "      <td>0.0</td>\n",
       "      <td>0.0</td>\n",
       "      <td>0.0</td>\n",
       "      <td>0.0</td>\n",
       "      <td>0.0</td>\n",
       "      <td>0.0</td>\n",
       "      <td>0.0</td>\n",
       "      <td>0.0</td>\n",
       "    </tr>\n",
       "  </tbody>\n",
       "</table>\n",
       "<p>3525 rows × 240 columns</p>\n",
       "</div>"
      ],
      "text/plain": [
       "        idx                          brand  serving_size       servings  \\\n",
       "0        13   csm bakery products na, inc.          39.0            grm   \n",
       "1        15    chips_pretzels_snacks_brand          28.0            onz   \n",
       "2        16         cookies_biscuits_brand          28.0          cooki   \n",
       "3        23                  safeway, inc.          28.0           chip   \n",
       "4        40          inventure foods, inc.          28.0            onz   \n",
       "...     ...                            ...           ...            ...   \n",
       "3520  35215    mike-sell's potato chip co.          28.0            onz   \n",
       "3521  35241                     true north          28.0            onz   \n",
       "3522  35255                   first street          16.0           piec   \n",
       "3523  35258  lindt & sprungli (schweiz) ag          28.0            egg   \n",
       "3524  35271                  safeway, inc.          50.0  pack  biscuit   \n",
       "\n",
       "     Unnamed: 0  1002   1003   1004    1005  1007  ...  2021  2022  2023  \\\n",
       "0        amount   0.0   2.56  11.54   64.10   0.0  ...   0.0   0.0   0.0   \n",
       "1        amount   0.0   7.14  12.50   75.00   0.0  ...   0.0   0.0   0.0   \n",
       "2        amount   0.0  10.71  17.86   64.29   0.0  ...   0.0   0.0   0.0   \n",
       "3        amount   0.0   7.14  25.00   64.29   0.0  ...   0.0   0.0   0.0   \n",
       "4        amount   0.0   7.14  25.00   60.71   0.0  ...   0.0   0.0   0.0   \n",
       "...         ...   ...    ...    ...     ...   ...  ...   ...   ...   ...   \n",
       "3520     amount   0.0   7.14  25.00   60.71   0.0  ...   0.0   0.0   0.0   \n",
       "3521     amount   0.0  17.86  42.86   32.14   0.0  ...   0.0   0.0   0.0   \n",
       "3522     amount   0.0   0.00   0.00  100.00   0.0  ...   0.0   0.0   0.0   \n",
       "3523     amount   0.0   3.57  46.43   42.86   0.0  ...   0.0   0.0   0.0   \n",
       "3524     amount   0.0   8.00  16.00   74.00   0.0  ...   0.0   0.0   0.0   \n",
       "\n",
       "      2024  2025  2026  2028  2029  2032  2033  \n",
       "0      0.0   0.0   0.0   0.0   0.0   0.0   0.0  \n",
       "1      0.0   0.0   0.0   0.0   0.0   0.0   0.0  \n",
       "2      0.0   0.0   0.0   0.0   0.0   0.0   0.0  \n",
       "3      0.0   0.0   0.0   0.0   0.0   0.0   0.0  \n",
       "4      0.0   0.0   0.0   0.0   0.0   0.0   0.0  \n",
       "...    ...   ...   ...   ...   ...   ...   ...  \n",
       "3520   0.0   0.0   0.0   0.0   0.0   0.0   0.0  \n",
       "3521   0.0   0.0   0.0   0.0   0.0   0.0   0.0  \n",
       "3522   0.0   0.0   0.0   0.0   0.0   0.0   0.0  \n",
       "3523   0.0   0.0   0.0   0.0   0.0   0.0   0.0  \n",
       "3524   0.0   0.0   0.0   0.0   0.0   0.0   0.0  \n",
       "\n",
       "[3525 rows x 240 columns]"
      ]
     },
     "execution_count": 86,
     "metadata": {},
     "output_type": "execute_result"
    }
   ],
   "source": [
    "main_test"
   ]
  },
  {
   "cell_type": "markdown",
   "metadata": {},
   "source": [
    "Now we will apply the transform on the test set"
   ]
  },
  {
   "cell_type": "code",
   "execution_count": 87,
   "metadata": {},
   "outputs": [],
   "source": [
    "def concluded_test(copied_data):\n",
    "    new_data = copied_data.copy()\n",
    "    #new_data = new_data.assign(brand = ['other_brand' if item not in unique_brand_list else item for item in new_data['brand']],\n",
    "    #                    servings = ['other_serving' if item not in unique_serv_list else item for item in new_data['servings']])\n",
    "    hashed_brand = encoder30.fit_transform(new_data.brand)\n",
    "    hashed_serv =  encoder15.fit_transform(new_data.servings)\n",
    "\n",
    "    hashed_brand = pd.DataFrame(hashed_brand).add_prefix('brand')\n",
    "    hashed_serv = pd.DataFrame(hashed_serv).add_prefix('serving')\n",
    "\n",
    "    # adding same index to prevent NAN's\n",
    "    hashed_serv.index = new_data.index\n",
    "    hashed_brand.index = new_data.index\n",
    "    new_data = pd.concat([new_data,hashed_serv], axis = 1)\n",
    "    new_data = pd.concat([new_data,hashed_brand], axis = 1)\n",
    "    new_data = new_data.set_index('idx')\n",
    "    new_data = new_data.drop(['brand',\"servings\", \"Unnamed: 0\"], axis = 1)\n",
    "\n",
    "    cl = new_data.columns.get_loc('2033') + 1\n",
    "    new_data.iloc[ :,:cl] = new_data.iloc[ :,:cl].astype('float64')\n",
    "    new_data.iloc[ :,cl:] = new_data.iloc[ :,cl:].astype('bool')\n",
    "    new_data =  new_data.loc[:,selected_feats_final]\n",
    "\n",
    "    # droping the zero var columns \n",
    "    vt = VarianceThreshold()\n",
    "    _ = vt.fit(new_data)\n",
    "    mask = vt.get_support()\n",
    "    new_data = new_data.loc[:, mask]\n",
    "\n",
    "    # determine categorical and numerical features that's left\n",
    "    numerical_ix = new_data.select_dtypes(include=['float64']).columns\n",
    "    #categorical_ix = new_data.select_dtypes(include=[ 'bool']).columns\n",
    "\n",
    "    # transforming with min max\n",
    "    t = [ ('scale', MinMaxScaler(),numerical_ix)]\n",
    "    ct = ColumnTransformer(transformers=t, remainder='passthrough')\n",
    "    X_trans = ct.fit_transform(new_data)  \n",
    "    new_data = pd.DataFrame(X_trans, index=new_data.index, columns=new_data.columns)\n",
    "    return new_data"
   ]
  },
  {
   "cell_type": "code",
   "execution_count": 88,
   "metadata": {},
   "outputs": [],
   "source": [
    "main_test2 = concluded_test(main_test)"
   ]
  },
  {
   "cell_type": "code",
   "execution_count": 89,
   "metadata": {},
   "outputs": [],
   "source": [
    "pred = final_model.predict(main_test2)"
   ]
  },
  {
   "cell_type": "code",
   "execution_count": 91,
   "metadata": {},
   "outputs": [
    {
     "data": {
      "text/html": [
       "<div>\n",
       "<style scoped>\n",
       "    .dataframe tbody tr th:only-of-type {\n",
       "        vertical-align: middle;\n",
       "    }\n",
       "\n",
       "    .dataframe tbody tr th {\n",
       "        vertical-align: top;\n",
       "    }\n",
       "\n",
       "    .dataframe thead th {\n",
       "        text-align: right;\n",
       "    }\n",
       "</style>\n",
       "<table border=\"1\" class=\"dataframe\">\n",
       "  <thead>\n",
       "    <tr style=\"text-align: right;\">\n",
       "      <th></th>\n",
       "      <th>idx</th>\n",
       "      <th>pred_cat</th>\n",
       "    </tr>\n",
       "  </thead>\n",
       "  <tbody>\n",
       "    <tr>\n",
       "      <th>0</th>\n",
       "      <td>13</td>\n",
       "      <td>popcorn_peanuts_seeds_related_snacks</td>\n",
       "    </tr>\n",
       "    <tr>\n",
       "      <th>1</th>\n",
       "      <td>15</td>\n",
       "      <td>chips_pretzels_snacks</td>\n",
       "    </tr>\n",
       "    <tr>\n",
       "      <th>2</th>\n",
       "      <td>16</td>\n",
       "      <td>cookies_biscuits</td>\n",
       "    </tr>\n",
       "    <tr>\n",
       "      <th>3</th>\n",
       "      <td>23</td>\n",
       "      <td>chips_pretzels_snacks</td>\n",
       "    </tr>\n",
       "    <tr>\n",
       "      <th>4</th>\n",
       "      <td>40</td>\n",
       "      <td>chips_pretzels_snacks</td>\n",
       "    </tr>\n",
       "    <tr>\n",
       "      <th>...</th>\n",
       "      <td>...</td>\n",
       "      <td>...</td>\n",
       "    </tr>\n",
       "    <tr>\n",
       "      <th>3520</th>\n",
       "      <td>35215</td>\n",
       "      <td>chips_pretzels_snacks</td>\n",
       "    </tr>\n",
       "    <tr>\n",
       "      <th>3521</th>\n",
       "      <td>35241</td>\n",
       "      <td>popcorn_peanuts_seeds_related_snacks</td>\n",
       "    </tr>\n",
       "    <tr>\n",
       "      <th>3522</th>\n",
       "      <td>35255</td>\n",
       "      <td>cakes_cupcakes_snack_cakes</td>\n",
       "    </tr>\n",
       "    <tr>\n",
       "      <th>3523</th>\n",
       "      <td>35258</td>\n",
       "      <td>cakes_cupcakes_snack_cakes</td>\n",
       "    </tr>\n",
       "    <tr>\n",
       "      <th>3524</th>\n",
       "      <td>35271</td>\n",
       "      <td>chips_pretzels_snacks</td>\n",
       "    </tr>\n",
       "  </tbody>\n",
       "</table>\n",
       "<p>3525 rows × 2 columns</p>\n",
       "</div>"
      ],
      "text/plain": [
       "        idx                              pred_cat\n",
       "0        13  popcorn_peanuts_seeds_related_snacks\n",
       "1        15                 chips_pretzels_snacks\n",
       "2        16                      cookies_biscuits\n",
       "3        23                 chips_pretzels_snacks\n",
       "4        40                 chips_pretzels_snacks\n",
       "...     ...                                   ...\n",
       "3520  35215                 chips_pretzels_snacks\n",
       "3521  35241  popcorn_peanuts_seeds_related_snacks\n",
       "3522  35255            cakes_cupcakes_snack_cakes\n",
       "3523  35258            cakes_cupcakes_snack_cakes\n",
       "3524  35271                 chips_pretzels_snacks\n",
       "\n",
       "[3525 rows x 2 columns]"
      ]
     },
     "execution_count": 91,
     "metadata": {},
     "output_type": "execute_result"
    }
   ],
   "source": [
    "results = pd.Series(list(lb.inverse_transform(pred)))\n",
    "test_idx = food_test.idx\n",
    "d = {'idx': test_idx, 'pred_cat': results}\n",
    "df = pd.DataFrame(data=d)\n",
    "df.reset_index(drop = True)"
   ]
  },
  {
   "cell_type": "code",
   "execution_count": 92,
   "metadata": {},
   "outputs": [],
   "source": [
    "df.to_csv(\"./model02b.csv\")  "
   ]
  },
  {
   "cell_type": "code",
   "execution_count": null,
   "metadata": {},
   "outputs": [],
   "source": [
    "X_dtrain, X_dtest, y_dtrain, y_dtest = train_test_split(main4, lable, stratify = lable )"
   ]
  },
  {
   "cell_type": "code",
   "execution_count": null,
   "metadata": {},
   "outputs": [],
   "source": [
    "X_tr, y_tr = concluded_data(X_dtrain, y_dtrain)"
   ]
  },
  {
   "cell_type": "code",
   "execution_count": null,
   "metadata": {},
   "outputs": [],
   "source": [
    "X_dtest = X_dtest.drop(['category'])"
   ]
  },
  {
   "cell_type": "code",
   "execution_count": null,
   "metadata": {},
   "outputs": [],
   "source": [
    "X_ts = concluded_test(X_dtest.drop('category', axis = 1))"
   ]
  },
  {
   "cell_type": "code",
   "execution_count": null,
   "metadata": {},
   "outputs": [],
   "source": [
    "final_model = ExtraTreesClassifier(n_estimators = 250, \n",
    "min_samples_split = 5, \n",
    "random_state = 1,\n",
    "min_samples_leaf = 1,\n",
    "criterion = 'entropy')\n",
    "#final_model.fit(main5, lable2)"
   ]
  },
  {
   "cell_type": "code",
   "execution_count": null,
   "metadata": {},
   "outputs": [
    {
     "data": {
      "text/plain": [
       "ExtraTreesClassifier(criterion='entropy', min_samples_split=5, n_estimators=250,\n",
       "                     random_state=1)"
      ]
     },
     "execution_count": 149,
     "metadata": {},
     "output_type": "execute_result"
    }
   ],
   "source": [
    "final_model.fit(X_tr, y_tr)"
   ]
  },
  {
   "cell_type": "code",
   "execution_count": null,
   "metadata": {},
   "outputs": [],
   "source": [
    "X_dtest.to_csv('main_prop.csv')"
   ]
  },
  {
   "cell_type": "code",
   "execution_count": null,
   "metadata": {},
   "outputs": [
    {
     "data": {
      "text/plain": [
       "0.8645754598135551"
      ]
     },
     "execution_count": 154,
     "metadata": {},
     "output_type": "execute_result"
    }
   ],
   "source": [
    "from sklearn.metrics import accuracy_score\n",
    "pr= final_model.predict(X_ts)\n",
    "accuracy_score(pr, y_dtest)"
   ]
  },
  {
   "cell_type": "code",
   "execution_count": null,
   "metadata": {},
   "outputs": [
    {
     "data": {
      "text/plain": [
       "0       21900\n",
       "1        8190\n",
       "2       14002\n",
       "3         565\n",
       "4       32860\n",
       "        ...  \n",
       "7933    28418\n",
       "7934    29252\n",
       "7935    16265\n",
       "7936    10107\n",
       "7937    21191\n",
       "Name: idx, Length: 7938, dtype: int64"
      ]
     },
     "execution_count": 166,
     "metadata": {},
     "output_type": "execute_result"
    }
   ],
   "source": [
    "test_idx.reset_index(drop = True)"
   ]
  },
  {
   "cell_type": "code",
   "execution_count": null,
   "metadata": {},
   "outputs": [],
   "source": [
    "df2.to_csv('prop1.csv')"
   ]
  },
  {
   "cell_type": "code",
   "execution_count": null,
   "metadata": {},
   "outputs": [
    {
     "data": {
      "text/html": [
       "<div>\n",
       "<style scoped>\n",
       "    .dataframe tbody tr th:only-of-type {\n",
       "        vertical-align: middle;\n",
       "    }\n",
       "\n",
       "    .dataframe tbody tr th {\n",
       "        vertical-align: top;\n",
       "    }\n",
       "\n",
       "    .dataframe thead th {\n",
       "        text-align: right;\n",
       "    }\n",
       "</style>\n",
       "<table border=\"1\" class=\"dataframe\">\n",
       "  <thead>\n",
       "    <tr style=\"text-align: right;\">\n",
       "      <th></th>\n",
       "      <th>idx</th>\n",
       "      <th>pred_cat</th>\n",
       "    </tr>\n",
       "  </thead>\n",
       "  <tbody>\n",
       "    <tr>\n",
       "      <th>0</th>\n",
       "      <td>21900</td>\n",
       "      <td>cookies_biscuits</td>\n",
       "    </tr>\n",
       "    <tr>\n",
       "      <th>1</th>\n",
       "      <td>8190</td>\n",
       "      <td>chocolate</td>\n",
       "    </tr>\n",
       "    <tr>\n",
       "      <th>2</th>\n",
       "      <td>14002</td>\n",
       "      <td>cookies_biscuits</td>\n",
       "    </tr>\n",
       "    <tr>\n",
       "      <th>3</th>\n",
       "      <td>565</td>\n",
       "      <td>chocolate</td>\n",
       "    </tr>\n",
       "    <tr>\n",
       "      <th>4</th>\n",
       "      <td>32860</td>\n",
       "      <td>cakes_cupcakes_snack_cakes</td>\n",
       "    </tr>\n",
       "    <tr>\n",
       "      <th>...</th>\n",
       "      <td>...</td>\n",
       "      <td>...</td>\n",
       "    </tr>\n",
       "    <tr>\n",
       "      <th>7933</th>\n",
       "      <td>28418</td>\n",
       "      <td>cookies_biscuits</td>\n",
       "    </tr>\n",
       "    <tr>\n",
       "      <th>7934</th>\n",
       "      <td>29252</td>\n",
       "      <td>cookies_biscuits</td>\n",
       "    </tr>\n",
       "    <tr>\n",
       "      <th>7935</th>\n",
       "      <td>16265</td>\n",
       "      <td>cakes_cupcakes_snack_cakes</td>\n",
       "    </tr>\n",
       "    <tr>\n",
       "      <th>7936</th>\n",
       "      <td>10107</td>\n",
       "      <td>candy</td>\n",
       "    </tr>\n",
       "    <tr>\n",
       "      <th>7937</th>\n",
       "      <td>21191</td>\n",
       "      <td>cakes_cupcakes_snack_cakes</td>\n",
       "    </tr>\n",
       "  </tbody>\n",
       "</table>\n",
       "<p>7938 rows × 2 columns</p>\n",
       "</div>"
      ],
      "text/plain": [
       "        idx                    pred_cat\n",
       "0     21900            cookies_biscuits\n",
       "1      8190                   chocolate\n",
       "2     14002            cookies_biscuits\n",
       "3       565                   chocolate\n",
       "4     32860  cakes_cupcakes_snack_cakes\n",
       "...     ...                         ...\n",
       "7933  28418            cookies_biscuits\n",
       "7934  29252            cookies_biscuits\n",
       "7935  16265  cakes_cupcakes_snack_cakes\n",
       "7936  10107                       candy\n",
       "7937  21191  cakes_cupcakes_snack_cakes\n",
       "\n",
       "[7938 rows x 2 columns]"
      ]
     },
     "execution_count": 169,
     "metadata": {},
     "output_type": "execute_result"
    }
   ],
   "source": [
    "\n",
    "results = pd.Series(list(lb.inverse_transform(pr)))\n",
    "test_idx = X_dtest.idx.reset_index(drop = True)\n",
    "d = {'idx': test_idx, 'pred_cat': results}\n",
    "df2 = pd.DataFrame(data=d)\n",
    "df2"
   ]
  }
 ],
 "metadata": {
  "interpreter": {
   "hash": "e7370f93d1d0cde622a1f8e1c04877d8463912d04d973331ad4851f04de6915a"
  },
  "kernelspec": {
   "display_name": "Python 3 (ipykernel)",
   "language": "python",
   "name": "python3"
  },
  "language_info": {
   "codemirror_mode": {
    "name": "ipython",
    "version": 3
   },
   "file_extension": ".py",
   "mimetype": "text/x-python",
   "name": "python",
   "nbconvert_exporter": "python",
   "pygments_lexer": "ipython3",
   "version": "3.10.5"
  }
 },
 "nbformat": 4,
 "nbformat_minor": 2
}
